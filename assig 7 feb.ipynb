{
 "cells": [
  {
   "cell_type": "code",
   "execution_count": 1,
   "id": "c3e28d3f-d946-4358-b222-2d059d7e5903",
   "metadata": {},
   "outputs": [],
   "source": [
    "# ANS 1"
   ]
  },
  {
   "cell_type": "code",
   "execution_count": 2,
   "id": "f0108c1a-fdcc-4525-8bfe-2b28023aa9b0",
   "metadata": {},
   "outputs": [],
   "source": [
    "def password():\n",
    "    n=input('enter password')\n",
    "    print(n)\n",
    "    count=0\n",
    "    cou=0\n",
    "    co=0\n",
    "    c=0\n",
    "    if len(n)==10:\n",
    "        for i in n:\n",
    "            if i.islower():\n",
    "                count=count+1\n",
    "            elif i.isupper():\n",
    "                cou=cou+1\n",
    "            elif i in ['0','1','2','3','4','5','6','7','8','9']:\n",
    "                co=co+1\n",
    "            elif i in  ['!','@','#','$','%','^','&','*',' ']:\n",
    "                c=c+1\n",
    "            else: \n",
    "                continue\n",
    "    if count>=2 and cou>=2 and co>=1 and c==3:\n",
    "        print('valid Password')\n",
    "    else:\n",
    "        print('invalid password')"
   ]
  },
  {
   "cell_type": "code",
   "execution_count": 4,
   "id": "694a4ed7-a702-423e-9de9-fa0fc278d67c",
   "metadata": {},
   "outputs": [
    {
     "name": "stdin",
     "output_type": "stream",
     "text": [
      "enter password ASHish!@#4\n"
     ]
    },
    {
     "name": "stdout",
     "output_type": "stream",
     "text": [
      "ASHish!@#4\n",
      "valid Password\n"
     ]
    }
   ],
   "source": [
    "password()"
   ]
  },
  {
   "cell_type": "code",
   "execution_count": 5,
   "id": "e10bd375-7406-4411-b453-931b7dec6d51",
   "metadata": {},
   "outputs": [
    {
     "name": "stdin",
     "output_type": "stream",
     "text": [
      "enter password ASDFGeur56\n"
     ]
    },
    {
     "name": "stdout",
     "output_type": "stream",
     "text": [
      "ASDFGeur56\n",
      "invalid password\n"
     ]
    }
   ],
   "source": [
    "password()"
   ]
  },
  {
   "cell_type": "code",
   "execution_count": 6,
   "id": "8105331a-d5d8-40c8-8f2b-3b1cefe48c40",
   "metadata": {},
   "outputs": [],
   "source": [
    "# ANS 2"
   ]
  },
  {
   "cell_type": "code",
   "execution_count": 7,
   "id": "98c67d51-0893-4507-919a-912ccd7f7c8a",
   "metadata": {},
   "outputs": [],
   "source": [
    "# Check if the given string starts with a particular letter"
   ]
  },
  {
   "cell_type": "code",
   "execution_count": 9,
   "id": "ffb795c7-5f7a-4a58-b630-79c506e9ed14",
   "metadata": {},
   "outputs": [
    {
     "name": "stdin",
     "output_type": "stream",
     "text": [
      "enter the string qsvkdjgb\n",
      "enter the letter from which you want to check whether the string starts or not with this letter q\n"
     ]
    },
    {
     "data": {
      "text/plain": [
       "[True]"
      ]
     },
     "execution_count": 9,
     "metadata": {},
     "output_type": "execute_result"
    }
   ],
   "source": [
    "t=input('enter the string')\n",
    "m=input('enter the letter from which you want to check whether the string starts or not with this letter')\n",
    "[True if t[0]==m else False]"
   ]
  },
  {
   "cell_type": "code",
   "execution_count": 10,
   "id": "b171c45a-0e2b-4fe0-92ee-44708e8d8d3f",
   "metadata": {},
   "outputs": [],
   "source": [
    "# Check whether a string is numeric"
   ]
  },
  {
   "cell_type": "code",
   "execution_count": 11,
   "id": "978afb75-a96f-4df7-b08d-57b63f1658d9",
   "metadata": {},
   "outputs": [
    {
     "name": "stdin",
     "output_type": "stream",
     "text": [
      "enter string which you want to check whether it is numeric or not  svbhsd\n"
     ]
    },
    {
     "data": {
      "text/plain": [
       "[False]"
      ]
     },
     "execution_count": 11,
     "metadata": {},
     "output_type": "execute_result"
    }
   ],
   "source": [
    "a=input('enter string which you want to check whether it is numeric or not ')\n",
    "[ True if a.isnumeric() else False]"
   ]
  },
  {
   "cell_type": "code",
   "execution_count": 16,
   "id": "56bfcab7-799e-450c-b82b-53c5a64e1cf5",
   "metadata": {},
   "outputs": [],
   "source": [
    "# Sort a list of tupples"
   ]
  },
  {
   "cell_type": "code",
   "execution_count": 15,
   "id": "1df1c198-c4cd-45bf-9dee-a7d272ef1ca8",
   "metadata": {},
   "outputs": [
    {
     "name": "stdout",
     "output_type": "stream",
     "text": [
      "Original Tuple List: [('mango', 99), ('orange', 80), ('grapes', 1000)]\n",
      "Sorted Tuple List: [('orange', 80), ('mango', 99), ('grapes', 1000)]\n"
     ]
    }
   ],
   "source": [
    "s=[(\"mango\",99),(\"orange\",80),(\"grapes\",1000)]\n",
    "def Sort(s): \n",
    "    s.sort(key = lambda a: a[1]) \n",
    "    return s \n",
    "print(\"Original Tuple List:\" ,s)\n",
    "print(\"Sorted Tuple List:\" ,Sort(s))"
   ]
  },
  {
   "cell_type": "code",
   "execution_count": 17,
   "id": "ded19cb4-b4c0-47e9-af95-8ca56a47d4cd",
   "metadata": {},
   "outputs": [],
   "source": [
    "# Find the squares of numbers from 1 to 10"
   ]
  },
  {
   "cell_type": "code",
   "execution_count": 18,
   "id": "4902fd37-c5d0-437e-8753-df5d09f105b6",
   "metadata": {},
   "outputs": [],
   "source": [
    "l=[1,2,3,4,5,6,7,8,9,10]"
   ]
  },
  {
   "cell_type": "code",
   "execution_count": 19,
   "id": "5fdf7ac2-fd40-43ee-8b74-b377fab79d95",
   "metadata": {},
   "outputs": [
    {
     "data": {
      "text/plain": [
       "[1, 4, 9, 16, 25, 36, 49, 64, 81, 100]"
      ]
     },
     "execution_count": 19,
     "metadata": {},
     "output_type": "execute_result"
    }
   ],
   "source": [
    "list(map(lambda x: x**2,l))"
   ]
  },
  {
   "cell_type": "code",
   "execution_count": 20,
   "id": "de84e416-8a1d-4d11-9edc-65c95de902e3",
   "metadata": {},
   "outputs": [],
   "source": [
    "# Find the cube roots of numbers from 1 to 10"
   ]
  },
  {
   "cell_type": "code",
   "execution_count": 21,
   "id": "e094638c-4f35-4cef-bdbc-68f710c7206b",
   "metadata": {},
   "outputs": [
    {
     "data": {
      "text/plain": [
       "[1.0,\n",
       " 1.2599210498948732,\n",
       " 1.4422495703074083,\n",
       " 1.5874010519681994,\n",
       " 1.7099759466766968,\n",
       " 1.8171205928321397,\n",
       " 1.912931182772389,\n",
       " 2.0,\n",
       " 2.080083823051904,\n",
       " 2.154434690031884]"
      ]
     },
     "execution_count": 21,
     "metadata": {},
     "output_type": "execute_result"
    }
   ],
   "source": [
    "list(map(lambda x: x**(1/3),l))"
   ]
  },
  {
   "cell_type": "code",
   "execution_count": 22,
   "id": "a18694c0-bf07-4dcf-b03d-33df057ee1c6",
   "metadata": {},
   "outputs": [],
   "source": [
    "# Check if a given number is even or not"
   ]
  },
  {
   "cell_type": "code",
   "execution_count": 25,
   "id": "fb389baf-c156-4e9d-a6b5-e8a3df74508a",
   "metadata": {},
   "outputs": [
    {
     "name": "stdin",
     "output_type": "stream",
     "text": [
      "input the number u want to check whether it is even or not 78\n"
     ]
    },
    {
     "data": {
      "text/plain": [
       "[True]"
      ]
     },
     "execution_count": 25,
     "metadata": {},
     "output_type": "execute_result"
    }
   ],
   "source": [
    "n=int(input('input the number u want to check whether it is even or not'))\n",
    "[True if n%2==0 else False]"
   ]
  },
  {
   "cell_type": "code",
   "execution_count": 26,
   "id": "c2a354f9-bf90-4624-901c-d80be5da3eb0",
   "metadata": {},
   "outputs": [],
   "source": [
    "# Filter odd numbers from 1 to 10"
   ]
  },
  {
   "cell_type": "code",
   "execution_count": 27,
   "id": "82a048a7-b05a-4d4d-a127-d2264b66b875",
   "metadata": {},
   "outputs": [
    {
     "data": {
      "text/plain": [
       "[1, 3, 5, 7, 9]"
      ]
     },
     "execution_count": 27,
     "metadata": {},
     "output_type": "execute_result"
    }
   ],
   "source": [
    "list(filter(lambda x: x%2!=0,l))"
   ]
  },
  {
   "cell_type": "code",
   "execution_count": 28,
   "id": "e978e41c-5020-41b0-a6db-6b02f8dbac60",
   "metadata": {},
   "outputs": [],
   "source": [
    "# Sort a list of integers into positive and negative number lists"
   ]
  },
  {
   "cell_type": "code",
   "execution_count": 29,
   "id": "797a157e-6ae1-4ec1-b840-54d65a79a0fb",
   "metadata": {},
   "outputs": [],
   "source": [
    "m=[1,2,3,4,5,6,-1,-2,-3,-4,-5,0]"
   ]
  },
  {
   "cell_type": "code",
   "execution_count": 30,
   "id": "63896763-d8e8-4aa9-b97a-8f9fcc6f2f16",
   "metadata": {},
   "outputs": [
    {
     "name": "stdout",
     "output_type": "stream",
     "text": [
      "positive number list is given by:  [1, 2, 3, 4, 5, 6, 0]\n",
      "negative number list is given by:  [-1, -2, -3, -4, -5]\n"
     ]
    }
   ],
   "source": [
    "a=list(filter(lambda x: x>=0,m))\n",
    "b=list(filter(lambda y: y<0,m))\n",
    "print('positive number list is given by: ',a)\n",
    "print('negative number list is given by: ',b)"
   ]
  }
 ],
 "metadata": {
  "kernelspec": {
   "display_name": "Python 3 (ipykernel)",
   "language": "python",
   "name": "python3"
  },
  "language_info": {
   "codemirror_mode": {
    "name": "ipython",
    "version": 3
   },
   "file_extension": ".py",
   "mimetype": "text/x-python",
   "name": "python",
   "nbconvert_exporter": "python",
   "pygments_lexer": "ipython3",
   "version": "3.10.8"
  }
 },
 "nbformat": 4,
 "nbformat_minor": 5
}
