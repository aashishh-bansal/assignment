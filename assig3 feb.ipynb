{
 "cells": [
  {
   "cell_type": "code",
   "execution_count": 1,
   "id": "90b91ac9-628e-4dd0-95ce-963919690e82",
   "metadata": {},
   "outputs": [],
   "source": [
    "# ANS 1"
   ]
  },
  {
   "cell_type": "markdown",
   "id": "5cc60b31-6308-4bd8-8e26-18e7f4736590",
   "metadata": {},
   "source": [
    "def keyword is used to create a function"
   ]
  },
  {
   "cell_type": "code",
   "execution_count": 3,
   "id": "b22cdd99-06bd-4515-b4cb-7fb0c207c0a5",
   "metadata": {},
   "outputs": [],
   "source": [
    "def odd():\n",
    "    for i in range(1,26,2):\n",
    "        print(i)"
   ]
  },
  {
   "cell_type": "code",
   "execution_count": 8,
   "id": "8f22f5b2-7425-4ead-8720-1b412005d9df",
   "metadata": {},
   "outputs": [
    {
     "name": "stdout",
     "output_type": "stream",
     "text": [
      "1\n",
      "3\n",
      "5\n",
      "7\n",
      "9\n",
      "11\n",
      "13\n",
      "15\n",
      "17\n",
      "19\n",
      "21\n",
      "23\n",
      "25\n"
     ]
    }
   ],
   "source": [
    "a=odd()"
   ]
  },
  {
   "cell_type": "code",
   "execution_count": 19,
   "id": "268cd400-d38e-427c-ae22-dee3fa94a87b",
   "metadata": {},
   "outputs": [],
   "source": [
    "# ANS 2"
   ]
  },
  {
   "cell_type": "markdown",
   "id": "47a864ad-64bb-4583-be2e-8c6b20f2b3b4",
   "metadata": {},
   "source": [
    "We use args and kwargs in some function whenwe are not sure about the number of arguments we want to pass in a function. So args and kwargs are used in function after which we can pass any number of arguments . Here *args is used for the non keyworded arguments while **kwargs are used for passing the keyword arguments"
   ]
  },
  {
   "cell_type": "code",
   "execution_count": 21,
   "id": "f5017768-bd2e-4788-98e6-b304635eef10",
   "metadata": {},
   "outputs": [],
   "source": [
    " #use of *args"
   ]
  },
  {
   "cell_type": "code",
   "execution_count": 25,
   "id": "9529b124-e1e5-45f7-8490-3d87f60fd89e",
   "metadata": {},
   "outputs": [],
   "source": [
    "def sum(*args):\n",
    "    a=0\n",
    "    for i in args:\n",
    "        a=a+i\n",
    "    return(a)"
   ]
  },
  {
   "cell_type": "code",
   "execution_count": 26,
   "id": "77daebe7-a7d6-4083-aacc-fc06bac03ad6",
   "metadata": {},
   "outputs": [
    {
     "data": {
      "text/plain": [
       "42"
      ]
     },
     "execution_count": 26,
     "metadata": {},
     "output_type": "execute_result"
    }
   ],
   "source": [
    "sum(3,4,5,6,7,8,9)"
   ]
  },
  {
   "cell_type": "code",
   "execution_count": 27,
   "id": "6016ff18-1590-46d8-b932-0adf7ad1578f",
   "metadata": {},
   "outputs": [
    {
     "data": {
      "text/plain": [
       "15"
      ]
     },
     "execution_count": 27,
     "metadata": {},
     "output_type": "execute_result"
    }
   ],
   "source": [
    "sum(4,5,6)"
   ]
  },
  {
   "cell_type": "code",
   "execution_count": null,
   "id": "5539a3fd-0789-439a-921d-5ef637a68bd6",
   "metadata": {},
   "outputs": [],
   "source": [
    "# use of **kwargs"
   ]
  },
  {
   "cell_type": "code",
   "execution_count": 44,
   "id": "aaa2efec-3ffd-4206-a530-2068c8d0b2ab",
   "metadata": {},
   "outputs": [],
   "source": [
    "def collection(**kwargs):\n",
    "    for key, value in kwargs.items():\n",
    "        print(key,value)"
   ]
  },
  {
   "cell_type": "code",
   "execution_count": 50,
   "id": "d5e5d200-0960-4140-af8d-62f2c898f185",
   "metadata": {},
   "outputs": [
    {
     "name": "stdout",
     "output_type": "stream",
     "text": [
      "abcd ashish\n",
      "bcde aman\n",
      "cdef anil\n",
      "defg sudhansu\n",
      "efgh krishna\n",
      "fghi goldie\n"
     ]
    }
   ],
   "source": [
    "collection(abcd= 'ashish',bcde = 'aman',cdef = 'anil',defg = 'sudhansu',efgh = 'krishna',fghi = 'goldie')"
   ]
  },
  {
   "cell_type": "code",
   "execution_count": 46,
   "id": "12dcbd86-2c10-478d-9ea4-6285a54718db",
   "metadata": {},
   "outputs": [
    {
     "name": "stdout",
     "output_type": "stream",
     "text": [
      "Firstname John\n",
      "Lastname Wood\n",
      "Email johnwood@nomail.com\n",
      "Country Wakanda\n",
      "Age 25\n",
      "Phone 9876543210\n"
     ]
    }
   ],
   "source": [
    "collection(Firstname=\"John\", Lastname=\"Wood\", Email=\"johnwood@nomail.com\", Country=\"Wakanda\", Age=25, Phone=9876543210)"
   ]
  },
  {
   "cell_type": "code",
   "execution_count": 51,
   "id": "0a610838-a9dd-4938-aabd-94075ec07136",
   "metadata": {},
   "outputs": [],
   "source": [
    "# ANS 3"
   ]
  },
  {
   "cell_type": "markdown",
   "id": "7434e8d7-3a59-4853-b71c-89fb4662e8f2",
   "metadata": {},
   "source": [
    "\"Iterator\" in python ia an object which has the countable value that is an object which can be iterated again and again, means we can access all the values of the object one by one and so on."
   ]
  },
  {
   "cell_type": "markdown",
   "id": "450874f8-d859-4a88-8551-460a821fae79",
   "metadata": {},
   "source": [
    "iter() and next() are the methods used to initialize the iterator object and method of iteration respectively."
   ]
  },
  {
   "cell_type": "code",
   "execution_count": 48,
   "id": "af6b94a0-ee0a-4930-8c97-0b9bebbdc36f",
   "metadata": {},
   "outputs": [],
   "source": [
    "a=[2,4,6,8,10,12,14,16,18,20]"
   ]
  },
  {
   "cell_type": "code",
   "execution_count": 52,
   "id": "ed061e8d-f165-4852-a25d-d24010e875d0",
   "metadata": {},
   "outputs": [],
   "source": [
    "iterator=iter(a)"
   ]
  },
  {
   "cell_type": "code",
   "execution_count": 54,
   "id": "e5420a14-f799-43a8-91d3-1e9e3cff6953",
   "metadata": {},
   "outputs": [
    {
     "data": {
      "text/plain": [
       "4"
      ]
     },
     "execution_count": 54,
     "metadata": {},
     "output_type": "execute_result"
    }
   ],
   "source": [
    "next(iterator)"
   ]
  },
  {
   "cell_type": "code",
   "execution_count": 56,
   "id": "e16051e0-c245-4e3f-8eec-746b518fa81d",
   "metadata": {},
   "outputs": [
    {
     "data": {
      "text/plain": [
       "6"
      ]
     },
     "execution_count": 56,
     "metadata": {},
     "output_type": "execute_result"
    }
   ],
   "source": [
    "next(iterator)"
   ]
  },
  {
   "cell_type": "code",
   "execution_count": 57,
   "id": "8c2c5788-b29d-4f65-80ff-c101f6216a42",
   "metadata": {},
   "outputs": [
    {
     "data": {
      "text/plain": [
       "8"
      ]
     },
     "execution_count": 57,
     "metadata": {},
     "output_type": "execute_result"
    }
   ],
   "source": [
    "next(iterator)"
   ]
  },
  {
   "cell_type": "code",
   "execution_count": 58,
   "id": "44370cfa-05d5-423f-8825-d7f9b531484e",
   "metadata": {},
   "outputs": [
    {
     "data": {
      "text/plain": [
       "10"
      ]
     },
     "execution_count": 58,
     "metadata": {},
     "output_type": "execute_result"
    }
   ],
   "source": [
    "next(iterator)"
   ]
  },
  {
   "cell_type": "code",
   "execution_count": 59,
   "id": "36281965-f49c-42db-9e26-0c50571dadd2",
   "metadata": {},
   "outputs": [
    {
     "data": {
      "text/plain": [
       "12"
      ]
     },
     "execution_count": 59,
     "metadata": {},
     "output_type": "execute_result"
    }
   ],
   "source": [
    "next(iterator)"
   ]
  },
  {
   "cell_type": "code",
   "execution_count": 66,
   "id": "76ccd13c-5b60-4793-8cf6-5b10ef4312da",
   "metadata": {},
   "outputs": [],
   "source": [
    "# ANS 4"
   ]
  },
  {
   "cell_type": "markdown",
   "id": "bc5c16bb-35a6-4958-8592-d1c928d35525",
   "metadata": {},
   "source": [
    "In Python, a generator is a function that returns an iterator that produces a sequence of values when iterated over. Generators are useful when we want to produce a large sequence of values, but we don't want to store all of them in memory at once"
   ]
  },
  {
   "cell_type": "markdown",
   "id": "bfa61bf9-875a-48a2-8b6b-a717226ccbb7",
   "metadata": {},
   "source": [
    "Yield keyword is used to control the flow opf generator function."
   ]
  },
  {
   "cell_type": "code",
   "execution_count": 39,
   "id": "b66f292d-5c85-4f75-86d3-1aab5ecfc21c",
   "metadata": {},
   "outputs": [],
   "source": [
    "def function1(n):\n",
    "    b=9\n",
    "    for i in range(n):\n",
    "        c=i+b\n",
    "        yield c"
   ]
  },
  {
   "cell_type": "code",
   "execution_count": 41,
   "id": "97798fb7-1550-40b5-8d1e-89e44745aa37",
   "metadata": {},
   "outputs": [],
   "source": [
    "u=function1(10)"
   ]
  },
  {
   "cell_type": "code",
   "execution_count": 45,
   "id": "fefdf2b7-0104-4297-b739-2199a0b0377e",
   "metadata": {},
   "outputs": [
    {
     "name": "stdout",
     "output_type": "stream",
     "text": [
      "<generator object function1 at 0x7fcf68425ee0>\n"
     ]
    }
   ],
   "source": [
    "print(u)"
   ]
  },
  {
   "cell_type": "code",
   "execution_count": 46,
   "id": "93141ef8-0123-4f72-948f-8f59d6e0f051",
   "metadata": {},
   "outputs": [
    {
     "data": {
      "text/plain": [
       "generator"
      ]
     },
     "execution_count": 46,
     "metadata": {},
     "output_type": "execute_result"
    }
   ],
   "source": [
    "type(u)"
   ]
  },
  {
   "cell_type": "code",
   "execution_count": 44,
   "id": "0d0edf52-1450-4e26-bf7f-e0aafac2099f",
   "metadata": {},
   "outputs": [
    {
     "name": "stdout",
     "output_type": "stream",
     "text": [
      "9\n",
      "10\n",
      "11\n",
      "12\n",
      "13\n",
      "14\n",
      "15\n",
      "16\n",
      "17\n",
      "18\n"
     ]
    }
   ],
   "source": [
    "for i in function1(10):\n",
    "    print(i)"
   ]
  },
  {
   "cell_type": "code",
   "execution_count": 2,
   "id": "10b96398-f8b5-4bec-9d3b-9517025b957c",
   "metadata": {},
   "outputs": [],
   "source": [
    "# ANS 5"
   ]
  },
  {
   "cell_type": "code",
   "execution_count": 4,
   "id": "46c915b9-14ba-4c18-a895-c8c10802590e",
   "metadata": {},
   "outputs": [],
   "source": [
    "def prime(m):\n",
    "    for j in range(1,m):\n",
    "        i=2\n",
    "        count=0\n",
    "        if j==0 or j==1:\n",
    "            count=count+1\n",
    "        else :\n",
    "            while i<=j/2:\n",
    "                if j%i==0:\n",
    "                    count=count+1\n",
    "                    break\n",
    "                i=i+1\n",
    "        if count==0:\n",
    "            yield(j)"
   ]
  },
  {
   "cell_type": "code",
   "execution_count": 6,
   "id": "f3d5828c-ee45-4639-8549-ed885a226a92",
   "metadata": {},
   "outputs": [],
   "source": [
    "h=prime(1000)"
   ]
  },
  {
   "cell_type": "code",
   "execution_count": 8,
   "id": "166edccd-91a2-45bc-9ee2-c422fd83d209",
   "metadata": {},
   "outputs": [
    {
     "name": "stdout",
     "output_type": "stream",
     "text": [
      "<generator object prime at 0x7fcf7a221a80>\n"
     ]
    }
   ],
   "source": [
    "print(h)"
   ]
  },
  {
   "cell_type": "code",
   "execution_count": 9,
   "id": "7c71742d-b2e8-4c9f-87fd-695fe6d6bf8c",
   "metadata": {},
   "outputs": [
    {
     "data": {
      "text/plain": [
       "2"
      ]
     },
     "execution_count": 9,
     "metadata": {},
     "output_type": "execute_result"
    }
   ],
   "source": [
    "next(h)"
   ]
  },
  {
   "cell_type": "code",
   "execution_count": 10,
   "id": "29915596-b4d9-404d-8420-8fd9ca63c9bb",
   "metadata": {},
   "outputs": [
    {
     "data": {
      "text/plain": [
       "3"
      ]
     },
     "execution_count": 10,
     "metadata": {},
     "output_type": "execute_result"
    }
   ],
   "source": [
    "next(h)"
   ]
  },
  {
   "cell_type": "code",
   "execution_count": 11,
   "id": "c16d2641-cef0-4252-9c68-747a0d074d80",
   "metadata": {},
   "outputs": [
    {
     "data": {
      "text/plain": [
       "5"
      ]
     },
     "execution_count": 11,
     "metadata": {},
     "output_type": "execute_result"
    }
   ],
   "source": [
    "next(h)"
   ]
  },
  {
   "cell_type": "code",
   "execution_count": 12,
   "id": "e6f90fe0-f0b9-4a21-9e17-449753837d28",
   "metadata": {},
   "outputs": [
    {
     "data": {
      "text/plain": [
       "7"
      ]
     },
     "execution_count": 12,
     "metadata": {},
     "output_type": "execute_result"
    }
   ],
   "source": [
    "next(h)"
   ]
  },
  {
   "cell_type": "code",
   "execution_count": 13,
   "id": "c23e4e69-a4c9-4303-ab0e-67cfdafaf7c7",
   "metadata": {},
   "outputs": [
    {
     "data": {
      "text/plain": [
       "11"
      ]
     },
     "execution_count": 13,
     "metadata": {},
     "output_type": "execute_result"
    }
   ],
   "source": [
    "next(h)"
   ]
  },
  {
   "cell_type": "code",
   "execution_count": 15,
   "id": "967c63d2-4281-4b00-bd87-b20a6c287421",
   "metadata": {},
   "outputs": [
    {
     "data": {
      "text/plain": [
       "13"
      ]
     },
     "execution_count": 15,
     "metadata": {},
     "output_type": "execute_result"
    }
   ],
   "source": [
    "next(h)"
   ]
  },
  {
   "cell_type": "code",
   "execution_count": 16,
   "id": "7c340b58-0512-49df-8b21-ad76defe4221",
   "metadata": {},
   "outputs": [
    {
     "data": {
      "text/plain": [
       "17"
      ]
     },
     "execution_count": 16,
     "metadata": {},
     "output_type": "execute_result"
    }
   ],
   "source": [
    "next(h)"
   ]
  },
  {
   "cell_type": "code",
   "execution_count": 17,
   "id": "2dbfb16d-8e50-4110-8c36-8595a6b160f7",
   "metadata": {},
   "outputs": [
    {
     "data": {
      "text/plain": [
       "19"
      ]
     },
     "execution_count": 17,
     "metadata": {},
     "output_type": "execute_result"
    }
   ],
   "source": [
    "next(h)"
   ]
  },
  {
   "cell_type": "code",
   "execution_count": 18,
   "id": "f687e85b-98e3-4427-acd0-0a75a780405e",
   "metadata": {},
   "outputs": [
    {
     "data": {
      "text/plain": [
       "23"
      ]
     },
     "execution_count": 18,
     "metadata": {},
     "output_type": "execute_result"
    }
   ],
   "source": [
    "next(h)"
   ]
  },
  {
   "cell_type": "code",
   "execution_count": 19,
   "id": "ccc347bf-81cc-4fde-bd2c-dac9feb09e1e",
   "metadata": {},
   "outputs": [
    {
     "data": {
      "text/plain": [
       "29"
      ]
     },
     "execution_count": 19,
     "metadata": {},
     "output_type": "execute_result"
    }
   ],
   "source": [
    "next(h)"
   ]
  },
  {
   "cell_type": "code",
   "execution_count": 20,
   "id": "c771e0fe-eedb-48b0-baf0-ea0ec14fdb68",
   "metadata": {},
   "outputs": [
    {
     "data": {
      "text/plain": [
       "31"
      ]
     },
     "execution_count": 20,
     "metadata": {},
     "output_type": "execute_result"
    }
   ],
   "source": [
    "next(h)"
   ]
  },
  {
   "cell_type": "code",
   "execution_count": 21,
   "id": "96f7de8b-6daf-48cc-a9c8-911f8c457a77",
   "metadata": {},
   "outputs": [
    {
     "data": {
      "text/plain": [
       "37"
      ]
     },
     "execution_count": 21,
     "metadata": {},
     "output_type": "execute_result"
    }
   ],
   "source": [
    "next(h)"
   ]
  },
  {
   "cell_type": "code",
   "execution_count": 22,
   "id": "8a219921-8170-466d-8ea8-3ee15f283567",
   "metadata": {},
   "outputs": [
    {
     "data": {
      "text/plain": [
       "41"
      ]
     },
     "execution_count": 22,
     "metadata": {},
     "output_type": "execute_result"
    }
   ],
   "source": [
    "next(h)"
   ]
  },
  {
   "cell_type": "code",
   "execution_count": 23,
   "id": "3f7a768f-14a8-4f85-9fe5-04681ba2a1a6",
   "metadata": {},
   "outputs": [
    {
     "data": {
      "text/plain": [
       "43"
      ]
     },
     "execution_count": 23,
     "metadata": {},
     "output_type": "execute_result"
    }
   ],
   "source": [
    "next(h)"
   ]
  },
  {
   "cell_type": "code",
   "execution_count": 24,
   "id": "78d946e4-fb51-42a4-ac58-d80c82ddf843",
   "metadata": {},
   "outputs": [
    {
     "data": {
      "text/plain": [
       "47"
      ]
     },
     "execution_count": 24,
     "metadata": {},
     "output_type": "execute_result"
    }
   ],
   "source": [
    "next(h)"
   ]
  },
  {
   "cell_type": "code",
   "execution_count": 25,
   "id": "bcfce55e-9d7f-435e-8550-74c0786d8e32",
   "metadata": {},
   "outputs": [
    {
     "data": {
      "text/plain": [
       "53"
      ]
     },
     "execution_count": 25,
     "metadata": {},
     "output_type": "execute_result"
    }
   ],
   "source": [
    "next(h)"
   ]
  },
  {
   "cell_type": "code",
   "execution_count": 26,
   "id": "274ffa6a-078b-4613-b88a-d0ef9e81b6db",
   "metadata": {},
   "outputs": [
    {
     "data": {
      "text/plain": [
       "59"
      ]
     },
     "execution_count": 26,
     "metadata": {},
     "output_type": "execute_result"
    }
   ],
   "source": [
    "next(h)"
   ]
  },
  {
   "cell_type": "code",
   "execution_count": 27,
   "id": "457718ce-072a-4401-860c-9b3ec7e99997",
   "metadata": {},
   "outputs": [
    {
     "data": {
      "text/plain": [
       "61"
      ]
     },
     "execution_count": 27,
     "metadata": {},
     "output_type": "execute_result"
    }
   ],
   "source": [
    "next(h)"
   ]
  },
  {
   "cell_type": "code",
   "execution_count": 28,
   "id": "46101aa9-f86a-4238-9d60-37a965a32c54",
   "metadata": {},
   "outputs": [
    {
     "data": {
      "text/plain": [
       "67"
      ]
     },
     "execution_count": 28,
     "metadata": {},
     "output_type": "execute_result"
    }
   ],
   "source": [
    "next(h)"
   ]
  },
  {
   "cell_type": "code",
   "execution_count": 29,
   "id": "be92ad8c-00fd-46cd-bb97-60285b9af973",
   "metadata": {},
   "outputs": [
    {
     "data": {
      "text/plain": [
       "71"
      ]
     },
     "execution_count": 29,
     "metadata": {},
     "output_type": "execute_result"
    }
   ],
   "source": [
    "next(h)"
   ]
  },
  {
   "cell_type": "code",
   "execution_count": 9,
   "id": "925e24bc-2486-4bb1-a6b7-6455f099bfd6",
   "metadata": {},
   "outputs": [],
   "source": [
    "# ANS 6"
   ]
  },
  {
   "cell_type": "code",
   "execution_count": 10,
   "id": "e40844b6-016d-4cbd-a9c5-7846df58a4ae",
   "metadata": {},
   "outputs": [
    {
     "name": "stdout",
     "output_type": "stream",
     "text": [
      "0\n",
      "1\n",
      "1\n",
      "2\n",
      "3\n",
      "5\n",
      "8\n",
      "13\n",
      "21\n",
      "34\n"
     ]
    }
   ],
   "source": [
    "a=0\n",
    "b=1\n",
    "c=0\n",
    "while a<10:\n",
    "    print(c)\n",
    "    d=c+b\n",
    "    c=b\n",
    "    b=d\n",
    "    a=a+1"
   ]
  },
  {
   "cell_type": "code",
   "execution_count": 11,
   "id": "7fc70fda-5e80-4093-a878-ddcbb2772749",
   "metadata": {},
   "outputs": [],
   "source": [
    "# ANS 7"
   ]
  },
  {
   "cell_type": "code",
   "execution_count": 12,
   "id": "a862bedf-df27-4da7-aceb-6742441cbb7f",
   "metadata": {},
   "outputs": [],
   "source": [
    "a='pwskills'"
   ]
  },
  {
   "cell_type": "code",
   "execution_count": 13,
   "id": "1db8de76-0bb8-414b-8ad6-a2911d178e74",
   "metadata": {},
   "outputs": [
    {
     "data": {
      "text/plain": [
       "['p', 'w', 's', 'k', 'i', 'l', 'l', 's']"
      ]
     },
     "execution_count": 13,
     "metadata": {},
     "output_type": "execute_result"
    }
   ],
   "source": [
    "[i for i in a]"
   ]
  },
  {
   "cell_type": "code",
   "execution_count": 14,
   "id": "e53a4fd5-ac91-4096-a8cb-81b152fa688e",
   "metadata": {},
   "outputs": [],
   "source": [
    "# ANS 8"
   ]
  },
  {
   "cell_type": "code",
   "execution_count": 15,
   "id": "435963fa-19c9-4aae-80f5-b396efa3aba5",
   "metadata": {},
   "outputs": [
    {
     "name": "stdin",
     "output_type": "stream",
     "text": [
      "enter a number to check whether it is palindrome or not 454\n"
     ]
    },
    {
     "name": "stdout",
     "output_type": "stream",
     "text": [
      "palindrome\n"
     ]
    }
   ],
   "source": [
    "n=int(input('enter a number to check whether it is palindrome or not'))\n",
    "a=0\n",
    "check=n\n",
    "while n>0:\n",
    "    b=n%10\n",
    "    a=a*10+b\n",
    "    n=n//10\n",
    "if(a==check):\n",
    "    print('palindrome')\n",
    "else :\n",
    "    print('not palindrome')"
   ]
  },
  {
   "cell_type": "code",
   "execution_count": 16,
   "id": "919e727c-afbb-4720-9c7e-51fa71fe20e7",
   "metadata": {},
   "outputs": [],
   "source": [
    "# ANS 9"
   ]
  },
  {
   "cell_type": "code",
   "execution_count": 17,
   "id": "6de6e2ff-83b8-411d-901d-ee6e42c1be06",
   "metadata": {},
   "outputs": [
    {
     "name": "stdout",
     "output_type": "stream",
     "text": [
      "[1, 2, 3, 4, 5, 6, 7, 8, 9, 10, 11, 12, 13, 14, 15, 16, 17, 18, 19, 20, 21, 22, 23, 24, 25, 26, 27, 28, 29, 30, 31, 32, 33, 34, 35, 36, 37, 38, 39, 40, 41, 42, 43, 44, 45, 46, 47, 48, 49, 50, 51, 52, 53, 54, 55, 56, 57, 58, 59, 60, 61, 62, 63, 64, 65, 66, 67, 68, 69, 70, 71, 72, 73, 74, 75, 76, 77, 78, 79, 80, 81, 82, 83, 84, 85, 86, 87, 88, 89, 90, 91, 92, 93, 94, 95, 96, 97, 98, 99]\n"
     ]
    }
   ],
   "source": [
    "a=list(i for i in range(1,100))\n",
    "print(a)"
   ]
  },
  {
   "cell_type": "code",
   "execution_count": 18,
   "id": "316c2fe4-e664-4b50-87f1-8674ff678930",
   "metadata": {},
   "outputs": [
    {
     "name": "stdout",
     "output_type": "stream",
     "text": [
      "[1, 3, 5, 7, 9, 11, 13, 15, 17, 19, 21, 23, 25, 27, 29, 31, 33, 35, 37, 39, 41, 43, 45, 47, 49, 51, 53, 55, 57, 59, 61, 63, 65, 67, 69, 71, 73, 75, 77, 79, 81, 83, 85, 87, 89, 91, 93, 95, 97, 99]\n"
     ]
    }
   ],
   "source": [
    "b=list(i for i in range(1,101,2))\n",
    "print(b)"
   ]
  }
 ],
 "metadata": {
  "kernelspec": {
   "display_name": "Python 3 (ipykernel)",
   "language": "python",
   "name": "python3"
  },
  "language_info": {
   "codemirror_mode": {
    "name": "ipython",
    "version": 3
   },
   "file_extension": ".py",
   "mimetype": "text/x-python",
   "name": "python",
   "nbconvert_exporter": "python",
   "pygments_lexer": "ipython3",
   "version": "3.10.8"
  }
 },
 "nbformat": 4,
 "nbformat_minor": 5
}
