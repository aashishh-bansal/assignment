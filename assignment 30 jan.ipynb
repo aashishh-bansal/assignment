{
 "cells": [
  {
   "cell_type": "code",
   "execution_count": 1,
   "id": "d4568fb0-72f9-4159-9de0-40f72a077c70",
   "metadata": {},
   "outputs": [],
   "source": [
    "# ANS 1"
   ]
  },
  {
   "cell_type": "code",
   "execution_count": 2,
   "id": "b594b0f4-3ab3-4ffe-b88e-4c0fa5f69200",
   "metadata": {},
   "outputs": [
    {
     "name": "stdin",
     "output_type": "stream",
     "text": [
      "enter ur percentage 78\n"
     ]
    },
    {
     "name": "stdout",
     "output_type": "stream",
     "text": [
      " your grade is 'C'\n"
     ]
    }
   ],
   "source": [
    "perc=int(input('enter ur percentage'))\n",
    "if perc > 90 :\n",
    "    print(\" your grade is 'A'\")\n",
    "elif perc >80 and perc <= 90 :\n",
    "    print(\" your grade is 'B'\")\n",
    "elif perc >=60 and perc <=80 :\n",
    "    print(\" your grade is 'C'\")\n",
    "else :\n",
    "     print(\" your grade is 'D'\")"
   ]
  },
  {
   "cell_type": "code",
   "execution_count": 3,
   "id": "d4265deb-2211-4470-bccd-04c19f0791e7",
   "metadata": {},
   "outputs": [],
   "source": [
    "# ANS 2"
   ]
  },
  {
   "cell_type": "code",
   "execution_count": 4,
   "id": "6795fa78-5a0a-433b-9ad5-2e39fa652db3",
   "metadata": {},
   "outputs": [
    {
     "name": "stdin",
     "output_type": "stream",
     "text": [
      "enter the price of bike 456897\n"
     ]
    },
    {
     "name": "stdout",
     "output_type": "stream",
     "text": [
      "your tax on the bike is = 15 % and in rupees is = 68534.55\n"
     ]
    }
   ],
   "source": [
    "price=int(input('enter the price of bike'))\n",
    "if price > 100000 :\n",
    "    tax=(15*price)/100\n",
    "    print(\"your tax on the bike is = 15 % and in rupees is =\",tax)\n",
    "elif price > 50000 and price <=100000 :\n",
    "    tax=(10*price)/100\n",
    "    print(\"your tax on the bike is = 10 % and in rupees is =\",tax)\n",
    "else  :\n",
    "    tax=(5*price)/100\n",
    "    print(\"your tax on the bike is = 5 % and in rupees is =\",tax)"
   ]
  },
  {
   "cell_type": "code",
   "execution_count": 5,
   "id": "084fc335-f7a9-42ac-bd82-85c6c8be7b7a",
   "metadata": {},
   "outputs": [],
   "source": [
    "# ANS 3"
   ]
  },
  {
   "cell_type": "code",
   "execution_count": 6,
   "id": "251a1a01-1ae9-4e01-a26e-771933b113b3",
   "metadata": {},
   "outputs": [
    {
     "name": "stdin",
     "output_type": "stream",
     "text": [
      "enter your city name for which u want to find monument of that city agra\n"
     ]
    },
    {
     "name": "stdout",
     "output_type": "stream",
     "text": [
      "monument of the city is Taj Mahal\n"
     ]
    }
   ],
   "source": [
    "city=input('enter your city name for which u want to find monument of that city')\n",
    "if city == 'delhi' or city == 'DELHI' or city == 'Delhi' :\n",
    "    print('monument of the city is Red Fort')\n",
    "elif city == 'Agra' or city == 'agra' or city == 'AGRA' :\n",
    "    print('monument of the city is Taj Mahal')\n",
    "elif city == 'Jaipur' or city == 'jaipur' or city == 'JAIPUR' :\n",
    "    print('monument of the city is Jal Mahal')\n",
    "else :\n",
    "    print('enter data is incorrect')"
   ]
  },
  {
   "cell_type": "code",
   "execution_count": 7,
   "id": "0ef9c370-aa62-4642-b5f9-ec70889e2f47",
   "metadata": {},
   "outputs": [],
   "source": [
    "# ANS 4"
   ]
  },
  {
   "cell_type": "code",
   "execution_count": 8,
   "id": "7ba2659b-874f-4513-ba44-17c7212a2f1e",
   "metadata": {},
   "outputs": [
    {
     "name": "stdin",
     "output_type": "stream",
     "text": [
      "enter the number 56\n"
     ]
    },
    {
     "name": "stdout",
     "output_type": "stream",
     "text": [
      " number is divisible by 3 by 2 times, before it is less than than or equal to 10\n"
     ]
    }
   ],
   "source": [
    "num=int(input('enter the number'))\n",
    "i=0\n",
    "if num > 10 :\n",
    "    while num >10 :\n",
    "        num=num/3\n",
    "        i=i+1\n",
    "    print(' number is divisible by 3 by',i, 'times, before it is less than than or equal to 10')\n",
    "else :\n",
    "    print('number is less than or equal to 10')"
   ]
  },
  {
   "cell_type": "code",
   "execution_count": 9,
   "id": "772359a2-7415-40ea-a11c-1d56e5253992",
   "metadata": {},
   "outputs": [],
   "source": [
    "# ANS 5"
   ]
  },
  {
   "cell_type": "markdown",
   "id": "82fe6ae4-4882-4ba5-a4fc-8931c94ec1d4",
   "metadata": {},
   "source": [
    "While loop is used in python where we want to perform particular statement/operation to run untill the given condition remains true."
   ]
  },
  {
   "cell_type": "markdown",
   "id": "427e1166-101a-44a6-a75b-5285491ce225",
   "metadata": {},
   "source": [
    "for example"
   ]
  },
  {
   "cell_type": "code",
   "execution_count": 10,
   "id": "85c96dbb-4da7-4f41-b9fa-6189ac7572be",
   "metadata": {},
   "outputs": [
    {
     "name": "stdout",
     "output_type": "stream",
     "text": [
      "pw skills\n",
      "pw skills\n",
      "pw skills\n",
      "pw skills\n",
      "pw skills\n",
      "pw skills\n",
      "pw skills\n",
      "pw skills\n",
      "pw skills\n",
      "pw skills\n"
     ]
    }
   ],
   "source": [
    "i=1\n",
    "while i<=10:\n",
    "    print('pw skills')\n",
    "    i=i+1"
   ]
  },
  {
   "cell_type": "markdown",
   "id": "3bf34cc0-ea3a-4664-9056-4505ca89299e",
   "metadata": {},
   "source": [
    "in the above example we use the while loop, and condition given is i<=10, it means the while loop runs untill the value of i is smaller than 10, and the statements like \"print('pw skills')\" and \"i=i+1\" runs for the same time untill loop runs. it means while loop check the condition, if it true it performs all the statement given inside the loop, and when condition is false, the while loop terminate and pass the control over to the next step."
   ]
  },
  {
   "cell_type": "code",
   "execution_count": 11,
   "id": "daf35353-b7c6-47d1-bc78-35118e3b02ed",
   "metadata": {},
   "outputs": [],
   "source": [
    "# ANS 6"
   ]
  },
  {
   "cell_type": "code",
   "execution_count": 12,
   "id": "cb555538-6718-401b-9437-21616070c987",
   "metadata": {},
   "outputs": [
    {
     "name": "stdout",
     "output_type": "stream",
     "text": [
      "pw skill is best\n",
      "pw skill is best\n",
      "pw skill is best\n",
      "pw skill is best\n",
      "pw skill is best\n",
      "my name is ashish bansal\n",
      "my name is ashish bansal\n",
      "my name is ashish bansal\n",
      "my name is ashish bansal\n",
      "my name is ashish bansal\n",
      "data science course is so cheap from pw skills\n",
      "data science course is so cheap from pw skills\n",
      "data science course is so cheap from pw skills\n",
      "data science course is so cheap from pw skills\n",
      "data science course is so cheap from pw skills\n",
      "data science course is so cheap from pw skills\n",
      "data science course is so cheap from pw skills\n",
      "data science course is so cheap from pw skills\n",
      "data science course is so cheap from pw skills\n"
     ]
    }
   ],
   "source": [
    "i=1\n",
    "b=25\n",
    "c=12\n",
    "while i<10 :\n",
    "    while b>20:\n",
    "        while c>7:\n",
    "            print('pw skill is best')\n",
    "            c=c-1\n",
    "        print('my name is ashish bansal')\n",
    "        b=b-1\n",
    "    print('data science course is so cheap from pw skills')\n",
    "    i=i+1"
   ]
  },
  {
   "cell_type": "code",
   "execution_count": 13,
   "id": "55053918-37a4-4d63-8df4-c14e0135adcd",
   "metadata": {},
   "outputs": [],
   "source": [
    "# ANS 7"
   ]
  },
  {
   "cell_type": "code",
   "execution_count": 14,
   "id": "3110ae0a-6869-4ad3-a95e-18bdc9a50211",
   "metadata": {},
   "outputs": [
    {
     "name": "stdout",
     "output_type": "stream",
     "text": [
      "10\n",
      "9\n",
      "8\n",
      "7\n",
      "6\n",
      "5\n",
      "4\n",
      "3\n",
      "2\n",
      "1\n"
     ]
    }
   ],
   "source": [
    "i=10\n",
    "while i<=10:\n",
    "    print(i)\n",
    "    i=i-1\n",
    "    if i==0:\n",
    "        break"
   ]
  },
  {
   "cell_type": "code",
   "execution_count": 15,
   "id": "1482afbb-9333-48f2-9cc3-f504d7f20378",
   "metadata": {},
   "outputs": [],
   "source": [
    "# ANS 8"
   ]
  },
  {
   "cell_type": "code",
   "execution_count": 17,
   "id": "c50fbaaa-414e-4ceb-accd-954f824c0777",
   "metadata": {},
   "outputs": [
    {
     "name": "stdout",
     "output_type": "stream",
     "text": [
      "10\n",
      "9\n",
      "8\n",
      "7\n",
      "6\n",
      "5\n",
      "4\n",
      "3\n",
      "2\n",
      "1\n"
     ]
    }
   ],
   "source": [
    "i=10\n",
    "while i<=10:\n",
    "    print(i)\n",
    "    i=i-1\n",
    "    if i==0:\n",
    "        break"
   ]
  },
  {
   "cell_type": "code",
   "execution_count": null,
   "id": "9cf41599-a9ae-47cf-b977-0775c9f26e0f",
   "metadata": {},
   "outputs": [],
   "source": []
  }
 ],
 "metadata": {
  "kernelspec": {
   "display_name": "Python 3 (ipykernel)",
   "language": "python",
   "name": "python3"
  },
  "language_info": {
   "codemirror_mode": {
    "name": "ipython",
    "version": 3
   },
   "file_extension": ".py",
   "mimetype": "text/x-python",
   "name": "python",
   "nbconvert_exporter": "python",
   "pygments_lexer": "ipython3",
   "version": "3.10.8"
  }
 },
 "nbformat": 4,
 "nbformat_minor": 5
}
