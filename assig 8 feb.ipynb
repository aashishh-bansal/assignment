{
 "cells": [
  {
   "cell_type": "code",
   "execution_count": 1,
   "id": "ae9a023f-5049-4ad1-977c-5b7ae4825a86",
   "metadata": {},
   "outputs": [],
   "source": [
    "# ANS 1"
   ]
  },
  {
   "cell_type": "markdown",
   "id": "70e853df-1d02-4359-91e6-0179732ae900",
   "metadata": {},
   "source": [
    "Abstraction: Abstraction is basically making the blueprint for the other making child classes, in which we can define the classes present in blue print class by own and in own way and we can use them without any problem, basically it is used to remove the complexity of the coding. Foe example as given below"
   ]
  },
  {
   "cell_type": "code",
   "execution_count": 2,
   "id": "82699fff-8296-4929-a106-17feb30f21a8",
   "metadata": {},
   "outputs": [],
   "source": [
    "import abc"
   ]
  },
  {
   "cell_type": "code",
   "execution_count": 7,
   "id": "96bf96e0-548c-4101-bb40-fb68a134daab",
   "metadata": {},
   "outputs": [],
   "source": [
    "class details:\n",
    "    \n",
    "    @abc.abstractmethod\n",
    "    def name(self):\n",
    "        pass\n",
    "    \n",
    "    @abc.abstractmethod\n",
    "    def age(self):\n",
    "        pass\n",
    "    \n",
    "    @abc.abstractmethod\n",
    "    def address(self):\n",
    "        pass\n",
    "    \n",
    "    @abc.abstractmethod\n",
    "    def course(self):\n",
    "        pass"
   ]
  },
  {
   "cell_type": "code",
   "execution_count": 10,
   "id": "9756140c-57ff-4b33-ac7d-9409b8fad12c",
   "metadata": {},
   "outputs": [],
   "source": [
    "class student1(details):\n",
    "    \n",
    "    def name(self):\n",
    "        return('your name is ashish')\n",
    "    \n",
    "    def age(self):\n",
    "        return(\"age is 26\")\n",
    "    \n",
    "    def address(self):\n",
    "        return('address is delhi')\n",
    "    "
   ]
  },
  {
   "cell_type": "code",
   "execution_count": 12,
   "id": "8dbb6b90-b242-4c56-af9e-ab053e92a651",
   "metadata": {},
   "outputs": [],
   "source": [
    "class student2(details):\n",
    "    \n",
    "    def name(self):\n",
    "        return('your name is aman')\n",
    "    \n",
    "    def age(self):\n",
    "        return(\"age is 24\")"
   ]
  },
  {
   "cell_type": "code",
   "execution_count": 13,
   "id": "27250ac5-b772-45f8-9ee2-d8299ac8f847",
   "metadata": {},
   "outputs": [],
   "source": [
    "class student3(details):\n",
    "    \n",
    "    def name(self):\n",
    "        return('your name is krishna ')\n",
    "    \n",
    "    def age(self):\n",
    "        return(\"age is 21\")\n",
    "    \n",
    "    def course(self):\n",
    "        return(\"your course is data science masters\")"
   ]
  },
  {
   "cell_type": "code",
   "execution_count": 14,
   "id": "aeb16ec3-c5bc-4320-ba7a-d012a5d1ace8",
   "metadata": {},
   "outputs": [
    {
     "data": {
      "text/plain": [
       "'your name is krishna '"
      ]
     },
     "execution_count": 14,
     "metadata": {},
     "output_type": "execute_result"
    }
   ],
   "source": [
    "# define a object of student3 class\n",
    "a=student3()\n",
    "a.name()"
   ]
  },
  {
   "cell_type": "code",
   "execution_count": 15,
   "id": "c96e0295-3f83-41b4-bfa7-a873d859a218",
   "metadata": {},
   "outputs": [
    {
     "data": {
      "text/plain": [
       "'age is 21'"
      ]
     },
     "execution_count": 15,
     "metadata": {},
     "output_type": "execute_result"
    }
   ],
   "source": [
    "a.age()"
   ]
  },
  {
   "cell_type": "code",
   "execution_count": 17,
   "id": "3c01ba0f-8866-48bc-8a7e-5d1237ddd634",
   "metadata": {},
   "outputs": [
    {
     "data": {
      "text/plain": [
       "'your name is aman'"
      ]
     },
     "execution_count": 17,
     "metadata": {},
     "output_type": "execute_result"
    }
   ],
   "source": [
    "# define an object of student2 class\n",
    "b=student2()\n",
    "b.name()"
   ]
  },
  {
   "cell_type": "code",
   "execution_count": 18,
   "id": "7100be96-9312-4b8f-bd11-4af9adf26713",
   "metadata": {},
   "outputs": [
    {
     "data": {
      "text/plain": [
       "'age is 24'"
      ]
     },
     "execution_count": 18,
     "metadata": {},
     "output_type": "execute_result"
    }
   ],
   "source": [
    "b.age()"
   ]
  },
  {
   "cell_type": "code",
   "execution_count": 19,
   "id": "3b550cff-a41c-401a-aabf-c4b63632fb36",
   "metadata": {},
   "outputs": [],
   "source": [
    "b.address()"
   ]
  },
  {
   "cell_type": "code",
   "execution_count": 20,
   "id": "aca4467f-57e0-4c7d-9ec9-c2dcb29dc09d",
   "metadata": {},
   "outputs": [],
   "source": [
    "# here in student2 class there is no function of address so not executable"
   ]
  },
  {
   "cell_type": "code",
   "execution_count": 22,
   "id": "30acb58a-102d-48c4-9a20-c2080b0dbb45",
   "metadata": {},
   "outputs": [
    {
     "data": {
      "text/plain": [
       "'your name is ashish'"
      ]
     },
     "execution_count": 22,
     "metadata": {},
     "output_type": "execute_result"
    }
   ],
   "source": [
    "# now define an object of student1 class\n",
    "c=student1()\n",
    "c.name()"
   ]
  },
  {
   "cell_type": "code",
   "execution_count": 23,
   "id": "52b98ce2-bbe1-46e6-97f2-f43b090cd7b1",
   "metadata": {},
   "outputs": [
    {
     "data": {
      "text/plain": [
       "'address is delhi'"
      ]
     },
     "execution_count": 23,
     "metadata": {},
     "output_type": "execute_result"
    }
   ],
   "source": [
    "c.address()"
   ]
  },
  {
   "cell_type": "code",
   "execution_count": 24,
   "id": "6459e2bb-bb48-4400-868f-50025e4032a6",
   "metadata": {},
   "outputs": [
    {
     "data": {
      "text/plain": [
       "'age is 26'"
      ]
     },
     "execution_count": 24,
     "metadata": {},
     "output_type": "execute_result"
    }
   ],
   "source": [
    "c.age()"
   ]
  },
  {
   "cell_type": "code",
   "execution_count": 26,
   "id": "a9979515-cf90-4625-bec5-e07f5b5b9809",
   "metadata": {},
   "outputs": [
    {
     "data": {
      "text/plain": [
       "'your course is data science masters'"
      ]
     },
     "execution_count": 26,
     "metadata": {},
     "output_type": "execute_result"
    }
   ],
   "source": [
    "a.course()"
   ]
  },
  {
   "cell_type": "code",
   "execution_count": 28,
   "id": "9df92be2-8453-4a61-825a-3f407922a4e6",
   "metadata": {},
   "outputs": [],
   "source": [
    "# ANS 2"
   ]
  },
  {
   "cell_type": "markdown",
   "id": "32a92ebc-87d6-431a-aff5-4585aa79d161",
   "metadata": {},
   "source": [
    "Encapsulation : Encapsulation is vbasically hide the some functions of a class from the user which we donot want to \n",
    "accessed by the user like amount of money in a bank account, if he can access that so he can change the amount of  money in the bank\n",
    "which is not good, so encapsulation is basically hiding the some critical functions from the user which we don't want to \n",
    "be accessed by the user.\n",
    "\n",
    "Abstraction: Abstraction is basically hiding the internal operation of a function or a class from the user, basically it \n",
    "allow the results or shows the result to the user not showing the internal functionality of any function, so basically \n",
    "make the complexity of the function easier."
   ]
  },
  {
   "cell_type": "code",
   "execution_count": 47,
   "id": "ca471174-56da-414c-a541-1e5e763d9a91",
   "metadata": {},
   "outputs": [],
   "source": [
    "# exdample of encapsulation\n",
    "class course:\n",
    "     def __init__(self, name, course_, fees=3500):\n",
    "            self.name=name\n",
    "            self.coures=course_\n",
    "            self.__fees=fees\n",
    "     \n",
    "     def print_(self):\n",
    "            return (self.name, self.coures, self.fees)"
   ]
  },
  {
   "cell_type": "code",
   "execution_count": 45,
   "id": "b33c1b42-1527-44ba-924c-33bf4e9d0052",
   "metadata": {},
   "outputs": [],
   "source": [
    "s=course('ashish','data science')"
   ]
  },
  {
   "cell_type": "code",
   "execution_count": 48,
   "id": "e2d9d68a-ba8b-4a56-b5eb-356bcdb59453",
   "metadata": {},
   "outputs": [
    {
     "data": {
      "text/plain": [
       "('ashish', 'data science')"
      ]
     },
     "execution_count": 48,
     "metadata": {},
     "output_type": "execute_result"
    }
   ],
   "source": [
    "s.print_()"
   ]
  },
  {
   "cell_type": "markdown",
   "id": "d6bb5bf9-292e-4b1f-a759-3ec651419138",
   "metadata": {},
   "source": [
    " so here fees attribute is unaccessible by th user, even we fix the value and also want in return but not accessible"
   ]
  },
  {
   "cell_type": "code",
   "execution_count": 50,
   "id": "12c484aa-b8bf-4632-a59b-038fb213c856",
   "metadata": {},
   "outputs": [],
   "source": [
    "# example of abstraction as shown in question 1"
   ]
  },
  {
   "cell_type": "code",
   "execution_count": 51,
   "id": "f8e8b415-fac8-450b-9b2d-57a465ee7783",
   "metadata": {},
   "outputs": [],
   "source": [
    "# ANS 3"
   ]
  },
  {
   "cell_type": "markdown",
   "id": "8723bb16-f159-498c-adb1-63fb4f9ece45",
   "metadata": {},
   "source": [
    "abc module is in general abstract base classes which is used in python providing the infrastructure for \n",
    "defining the abstract classes in the pyhton and aslo it provides the blueprint for the concrete classes."
   ]
  },
  {
   "cell_type": "code",
   "execution_count": 53,
   "id": "7463a736-1667-4846-9bec-6613d17e7a31",
   "metadata": {},
   "outputs": [],
   "source": [
    "# ANS 4"
   ]
  },
  {
   "cell_type": "markdown",
   "id": "aa4c381a-1ee2-4ba3-b63e-bff734c0e550",
   "metadata": {},
   "source": [
    "we can achieve data abstraction in python by using abc module and by using the pre defined abstract class \n",
    "decorators and functions"
   ]
  },
  {
   "cell_type": "code",
   "execution_count": 54,
   "id": "1d6673da-6780-4c3f-8fe8-c61703951723",
   "metadata": {},
   "outputs": [],
   "source": [
    "# ANS 5"
   ]
  },
  {
   "cell_type": "markdown",
   "id": "86b48485-2495-4d0a-a0a1-4c5e2635fd35",
   "metadata": {},
   "source": [
    "No, we cannot create an instance or object for an abstract class, because abstarct classes are not completesd as they have some methods undefined in it.\n",
    "It purpose is basically how other classes should look like."
   ]
  }
 ],
 "metadata": {
  "kernelspec": {
   "display_name": "Python 3 (ipykernel)",
   "language": "python",
   "name": "python3"
  },
  "language_info": {
   "codemirror_mode": {
    "name": "ipython",
    "version": 3
   },
   "file_extension": ".py",
   "mimetype": "text/x-python",
   "name": "python",
   "nbconvert_exporter": "python",
   "pygments_lexer": "ipython3",
   "version": "3.10.8"
  }
 },
 "nbformat": 4,
 "nbformat_minor": 5
}
