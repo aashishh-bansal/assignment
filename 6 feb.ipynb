{
 "cells": [
  {
   "cell_type": "code",
   "execution_count": 1,
   "id": "af375812-ca1a-4ee9-86ef-4f437e51d0dd",
   "metadata": {},
   "outputs": [],
   "source": [
    "# ANS 1"
   ]
  },
  {
   "cell_type": "code",
   "execution_count": 2,
   "id": "0a717dc2-e72b-4724-b4c6-de3e88fddac4",
   "metadata": {},
   "outputs": [],
   "source": [
    "list1=[1,2,3,4,[44,55,66,True],False,(34,56,78,89,34),{1,2,3,3,2,1},{1:34,'key2':[55,67,78,89],4:(45,22,61,34)},[56,'Data science'],'Machine learning']"
   ]
  },
  {
   "cell_type": "code",
   "execution_count": 3,
   "id": "8d8d205a-2105-40b2-9c64-f193fbfda67c",
   "metadata": {},
   "outputs": [
    {
     "data": {
      "text/plain": [
       "[1,\n",
       " 2,\n",
       " 3,\n",
       " 4,\n",
       " [44, 55, 66, True],\n",
       " False,\n",
       " (34, 56, 78, 89, 34),\n",
       " {1, 2, 3},\n",
       " {1: 34, 'key2': [55, 67, 78, 89], 4: (45, 22, 61, 34)},\n",
       " [56, 'Data science'],\n",
       " 'Machine learning']"
      ]
     },
     "execution_count": 3,
     "metadata": {},
     "output_type": "execute_result"
    }
   ],
   "source": [
    "list1"
   ]
  },
  {
   "cell_type": "code",
   "execution_count": 4,
   "id": "7068f600-e2ba-4bda-8dd3-c26797f81bd0",
   "metadata": {},
   "outputs": [],
   "source": [
    "from functools import reduce"
   ]
  },
  {
   "cell_type": "code",
   "execution_count": 5,
   "id": "e53d62c4-81e5-4232-883a-02e4825853b7",
   "metadata": {},
   "outputs": [
    {
     "name": "stdout",
     "output_type": "stream",
     "text": [
      "original is: [1, 2, 3, 4, [44, 55, 66, True], False, (34, 56, 78, 89, 34), {1, 2, 3}, {1: 34, 'key2': [55, 67, 78, 89], 4: (45, 22, 61, 34)}, [56, 'Data science'], 'Machine learning']\n",
      "flatted list is: [1, 'key2', 4, 34, 55, 67, 78, 89, 45, 22, 61, 34, 1, 2, 3, 4, 44, 55, 66, True, False, 34, 56, 78, 89, 34, 1, 2, 3, 56, 'Data science', 'Machine learning']\n",
      "Multiplication of all the numbers is :  0\n"
     ]
    }
   ],
   "source": [
    "u=[]\n",
    "z=[]\n",
    "print('original is:', list1)\n",
    "for i in list1:\n",
    "    if type(i) is dict:\n",
    "        for j in i:\n",
    "            c=list(i.keys())\n",
    "            d=list(i.values())\n",
    "u=c+d\n",
    "for i in list1:\n",
    "    if type(i) is dict:\n",
    "        pass\n",
    "    else:\n",
    "        u.append(i)\n",
    "for i in u:\n",
    "    if type(i) is list:\n",
    "        for k in i:\n",
    "            z.append(k)\n",
    "    elif type(i) is tuple:\n",
    "        for k in i:\n",
    "            z.append(k)\n",
    "    elif type(i) is set:\n",
    "        for k in i:\n",
    "            z.append(k)\n",
    "    else:\n",
    "        z.append(i)\n",
    "print('flatted list is:', z)\n",
    "a=1\n",
    "for i in z:\n",
    "    if type(i) is str:\n",
    "        pass\n",
    "    else:\n",
    "        a=a*i\n",
    "print('Multiplication of all the numbers is : ',a)"
   ]
  },
  {
   "cell_type": "code",
   "execution_count": 6,
   "id": "7cc6f817-3ee6-4fbb-a63b-26ca59f28d38",
   "metadata": {},
   "outputs": [],
   "source": [
    "# ANS 2"
   ]
  },
  {
   "cell_type": "code",
   "execution_count": 7,
   "id": "2a6d1f5a-0b32-4eef-8a1d-bbdebdb23c4c",
   "metadata": {},
   "outputs": [
    {
     "name": "stdin",
     "output_type": "stream",
     "text": [
      "enter the string I want TO BEcome Data Scientist\n"
     ]
    },
    {
     "name": "stdout",
     "output_type": "stream",
     "text": [
      "old string is :  I want TO BEcome Data Scientist\n",
      "i$wznt$to$yexome$dztz$sxientist\n"
     ]
    }
   ],
   "source": [
    "e=input('enter the string')\n",
    "k=str()\n",
    "for i in e.lower():\n",
    "    if i=='a':\n",
    "        i='z'\n",
    "        k=k+i\n",
    "    elif i=='b':\n",
    "        i='y'\n",
    "        k=k+i\n",
    "    elif i=='c':\n",
    "        i='x'\n",
    "        k=k+i\n",
    "    elif i==' ':\n",
    "        i=\"$\"\n",
    "        k=k+i\n",
    "    else:\n",
    "        k=k+i\n",
    "        continue\n",
    "print('old string is : ',e)\n",
    "print(k)"
   ]
  },
  {
   "cell_type": "code",
   "execution_count": null,
   "id": "67a5e447-7db6-4da0-a2c4-be10caa6ca0a",
   "metadata": {},
   "outputs": [],
   "source": []
  }
 ],
 "metadata": {
  "kernelspec": {
   "display_name": "Python 3 (ipykernel)",
   "language": "python",
   "name": "python3"
  },
  "language_info": {
   "codemirror_mode": {
    "name": "ipython",
    "version": 3
   },
   "file_extension": ".py",
   "mimetype": "text/x-python",
   "name": "python",
   "nbconvert_exporter": "python",
   "pygments_lexer": "ipython3",
   "version": "3.10.8"
  }
 },
 "nbformat": 4,
 "nbformat_minor": 5
}
