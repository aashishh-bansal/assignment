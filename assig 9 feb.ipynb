{
 "cells": [
  {
   "cell_type": "code",
   "execution_count": 1,
   "id": "bfd0956b-1ea1-4342-99f1-dd02a3dbab79",
   "metadata": {},
   "outputs": [],
   "source": [
    "class vehicle:\n",
    "     def __init__(self, name_of_vehicle, max_speed, average_of_vehicle):\n",
    "            self.name_of_vehicle=name_of_vehicle\n",
    "            self.max_speed=max_speed\n",
    "            self.average_of_vehicle=average_of_vehicle"
   ]
  },
  {
   "cell_type": "code",
   "execution_count": 3,
   "id": "07f57c43-b125-484a-bcd0-fd78e922b7b3",
   "metadata": {},
   "outputs": [],
   "source": [
    "a=vehicle('Bentley','400 km/h','35 kmph')"
   ]
  },
  {
   "cell_type": "code",
   "execution_count": 4,
   "id": "de9b81fb-0872-4081-8c9d-b3b94698da9e",
   "metadata": {},
   "outputs": [
    {
     "data": {
      "text/plain": [
       "'400 km/h'"
      ]
     },
     "execution_count": 4,
     "metadata": {},
     "output_type": "execute_result"
    }
   ],
   "source": [
    "a.max_speed"
   ]
  },
  {
   "cell_type": "code",
   "execution_count": 12,
   "id": "c671f0e8-d325-4bf5-ae3e-8969d46629ec",
   "metadata": {},
   "outputs": [],
   "source": [
    "# ANS 2"
   ]
  },
  {
   "cell_type": "code",
   "execution_count": 3,
   "id": "9b101f66-8f0a-4b16-8625-242eba766a60",
   "metadata": {},
   "outputs": [],
   "source": [
    "class car(vehicle):\n",
    "    \n",
    "    \n",
    "    def seating_capacity(self,capacity):\n",
    "        self.capacity= capacity\n",
    "        return self.name_of_vehicle, self.capacity"
   ]
  },
  {
   "cell_type": "code",
   "execution_count": 4,
   "id": "b68f58f6-67d9-4c20-85aa-cd869647dd65",
   "metadata": {},
   "outputs": [],
   "source": [
    "b=car('Bentley','400 km/h','35 kmph')"
   ]
  },
  {
   "cell_type": "code",
   "execution_count": 6,
   "id": "71ef333c-eb7d-4417-817a-590d2e0919bf",
   "metadata": {},
   "outputs": [
    {
     "data": {
      "text/plain": [
       "('Bentley', 7)"
      ]
     },
     "execution_count": 6,
     "metadata": {},
     "output_type": "execute_result"
    }
   ],
   "source": [
    "b.seating_capacity(7)"
   ]
  },
  {
   "cell_type": "code",
   "execution_count": 7,
   "id": "28673d07-d5a3-4e52-bdc3-3ea516b26a97",
   "metadata": {},
   "outputs": [],
   "source": [
    "# ANS 3"
   ]
  },
  {
   "cell_type": "markdown",
   "id": "0cfd4ea3-8db9-4516-83a1-0f2b01136d44",
   "metadata": {},
   "source": [
    "multiple inheritence is the inheritence in which properties of class 1 and properties of class 2 are inherited in a third class. i.e. properties of many classes inhereuted in a particular class. for example:"
   ]
  },
  {
   "cell_type": "code",
   "execution_count": 38,
   "id": "be20b537-1e02-474f-b068-ec9b473331b6",
   "metadata": {},
   "outputs": [],
   "source": [
    "class pw():\n",
    "    def pw1(self):\n",
    "        print('this is my first time online class')"
   ]
  },
  {
   "cell_type": "code",
   "execution_count": 39,
   "id": "f4bcf43d-94f5-4a6e-8ff7-550de73bb301",
   "metadata": {},
   "outputs": [],
   "source": [
    "class skills():\n",
    "    def skills1(self):\n",
    "        print('but this class is very very good')"
   ]
  },
  {
   "cell_type": "code",
   "execution_count": 40,
   "id": "a5eb0faa-41e9-4cf9-bca6-46998446b928",
   "metadata": {},
   "outputs": [],
   "source": [
    "class pwskills(pw,skills):\n",
    "    def pwskills1(self):\n",
    "        print('this is done by only physics wallah only in India')"
   ]
  },
  {
   "cell_type": "code",
   "execution_count": 41,
   "id": "c458791a-2c08-46d0-be3d-a99798263a1e",
   "metadata": {},
   "outputs": [],
   "source": [
    "f=pwskills()"
   ]
  },
  {
   "cell_type": "code",
   "execution_count": 42,
   "id": "eae7b396-bf82-482b-8b7e-6b05585de512",
   "metadata": {},
   "outputs": [
    {
     "name": "stdout",
     "output_type": "stream",
     "text": [
      "this is my first time online class\n"
     ]
    }
   ],
   "source": [
    "f.pw1()"
   ]
  },
  {
   "cell_type": "code",
   "execution_count": 43,
   "id": "6359a759-6d5e-47a2-a135-99b8cbf19f67",
   "metadata": {},
   "outputs": [
    {
     "name": "stdout",
     "output_type": "stream",
     "text": [
      "but this class is very very good\n"
     ]
    }
   ],
   "source": [
    "f.skills1()"
   ]
  },
  {
   "cell_type": "code",
   "execution_count": 44,
   "id": "05d25462-393f-456a-bba6-146273cdf638",
   "metadata": {},
   "outputs": [
    {
     "name": "stdout",
     "output_type": "stream",
     "text": [
      "this is done by only physics wallah only in India\n"
     ]
    }
   ],
   "source": [
    "f.pwskills1()"
   ]
  },
  {
   "cell_type": "code",
   "execution_count": 45,
   "id": "ec8af547-1239-42fa-b1dd-7d6db94db23c",
   "metadata": {},
   "outputs": [],
   "source": [
    "# ANS 4"
   ]
  },
  {
   "cell_type": "markdown",
   "id": "aac3ab08-bf55-48be-86c5-f3d7be25f12c",
   "metadata": {},
   "source": [
    "Getters : These are the methods used in Object-Oriented Programming (OOPS) which helps to access the private attributes from a class.\n",
    "\n",
    "Setters : These are the methods used in OOPS feature which helps to set the value to private attributes in a class."
   ]
  },
  {
   "cell_type": "code",
   "execution_count": 50,
   "id": "b4f266ff-195f-4782-b451-76435d74f0d9",
   "metadata": {},
   "outputs": [],
   "source": [
    "class employee:\n",
    "\n",
    "    def __init__(self,name,employee_id):\n",
    "        self.__name = name\n",
    "        self.__employee_id = employee_id\n",
    "   "
   ]
  },
  {
   "cell_type": "code",
   "execution_count": 53,
   "id": "84646ee0-742c-4066-bdb9-3ca32f426dc7",
   "metadata": {},
   "outputs": [],
   "source": [
    "a=employee('ashish',3456)"
   ]
  },
  {
   "cell_type": "code",
   "execution_count": 54,
   "id": "9c92afcf-edbb-4794-9977-cd75ce03a931",
   "metadata": {},
   "outputs": [
    {
     "ename": "AttributeError",
     "evalue": "'employee' object has no attribute 'get_employee_id'",
     "output_type": "error",
     "traceback": [
      "\u001b[0;31m---------------------------------------------------------------------------\u001b[0m",
      "\u001b[0;31mAttributeError\u001b[0m                            Traceback (most recent call last)",
      "Cell \u001b[0;32mIn[54], line 1\u001b[0m\n\u001b[0;32m----> 1\u001b[0m \u001b[43ma\u001b[49m\u001b[38;5;241;43m.\u001b[39;49m\u001b[43mget_employee_id\u001b[49m()\n",
      "\u001b[0;31mAttributeError\u001b[0m: 'employee' object has no attribute 'get_employee_id'"
     ]
    }
   ],
   "source": [
    "a.get_employee_id()"
   ]
  },
  {
   "cell_type": "code",
   "execution_count": 55,
   "id": "b6a7e8e1-d76c-48c1-be88-36259969901b",
   "metadata": {},
   "outputs": [],
   "source": [
    "class employees:\n",
    "\n",
    "    def __init__(self,name,employee_id):\n",
    "        self.__name = name\n",
    "        self.__employee_id = employee_id\n",
    "   \n",
    "    def get_employee_id(self):\n",
    "        return self.__employee_id\n",
    "    \n",
    "    def set_employee_id(self,new_id):\n",
    "        self.__employee_id = new_id"
   ]
  },
  {
   "cell_type": "code",
   "execution_count": 57,
   "id": "2fd6a5d0-edf7-4213-a891-c1328a039f1f",
   "metadata": {},
   "outputs": [],
   "source": [
    "d=employees('ashish',3456)"
   ]
  },
  {
   "cell_type": "code",
   "execution_count": 58,
   "id": "026d05e9-e846-4e49-a298-afe069ece6c8",
   "metadata": {},
   "outputs": [
    {
     "data": {
      "text/plain": [
       "3456"
      ]
     },
     "execution_count": 58,
     "metadata": {},
     "output_type": "execute_result"
    }
   ],
   "source": [
    "d.get_employee_id()"
   ]
  },
  {
   "cell_type": "code",
   "execution_count": 60,
   "id": "5f427e3c-c150-4bb7-b1b5-ae8a04be01fc",
   "metadata": {},
   "outputs": [],
   "source": [
    "d.set_employee_id(8979)"
   ]
  },
  {
   "cell_type": "code",
   "execution_count": 61,
   "id": "8b0d14c3-2158-4043-b696-162f80076e7a",
   "metadata": {},
   "outputs": [
    {
     "data": {
      "text/plain": [
       "8979"
      ]
     },
     "execution_count": 61,
     "metadata": {},
     "output_type": "execute_result"
    }
   ],
   "source": [
    "d.get_employee_id()"
   ]
  },
  {
   "cell_type": "code",
   "execution_count": 62,
   "id": "927277fb-81f8-4108-b362-140e2a02d3cc",
   "metadata": {},
   "outputs": [],
   "source": [
    "# ANS 5"
   ]
  },
  {
   "cell_type": "markdown",
   "id": "99479b89-9633-4ca9-88bb-62921d1e5fcd",
   "metadata": {},
   "source": [
    "Method overriding is a feature of object-oriented programming languages where the subclass or child class can provide the program with specific characteristics or a specific implementation process of data provided that are already defined in the parent class or superclass."
   ]
  },
  {
   "cell_type": "code",
   "execution_count": 82,
   "id": "d32d53f6-0c60-40ea-838d-1a736187501f",
   "metadata": {},
   "outputs": [],
   "source": [
    "class Animal:\n",
    "    def walk(self):\n",
    "        print('Hello, I am the parent class Animal')\n",
    "    \n",
    "    def communicate(self):\n",
    "        print('This is how animal communicates.')\n",
    "\n",
    "class Cat(Animal):\n",
    "    def walk(self):\n",
    "        print('Hello, I am the child class Cat')\n",
    "    \n",
    "    def meow(self):\n",
    "        print('Cat communicates with Meows')  "
   ]
  },
  {
   "cell_type": "code",
   "execution_count": 76,
   "id": "b1231d74-a05b-4ffe-8460-27f594a287b5",
   "metadata": {},
   "outputs": [],
   "source": [
    "o=Animal()"
   ]
  },
  {
   "cell_type": "code",
   "execution_count": 77,
   "id": "ba4e2ca9-554a-4a15-9153-ad513c9be754",
   "metadata": {},
   "outputs": [
    {
     "name": "stdout",
     "output_type": "stream",
     "text": [
      "Hello, I am the parent class Animal\n"
     ]
    }
   ],
   "source": [
    "o.walk()"
   ]
  },
  {
   "cell_type": "code",
   "execution_count": 78,
   "id": "7bb86a1b-fc3d-441c-919b-a949c298ba1a",
   "metadata": {},
   "outputs": [
    {
     "name": "stdout",
     "output_type": "stream",
     "text": [
      "This is how animal communicates.\n"
     ]
    }
   ],
   "source": [
    "o.communicate()"
   ]
  },
  {
   "cell_type": "code",
   "execution_count": 79,
   "id": "631a9db1-97b0-4714-9543-dbda92358856",
   "metadata": {},
   "outputs": [],
   "source": [
    "q=Cat()"
   ]
  },
  {
   "cell_type": "code",
   "execution_count": 80,
   "id": "06a02bbb-d4af-4ada-b647-60d9182acbe3",
   "metadata": {},
   "outputs": [
    {
     "name": "stdout",
     "output_type": "stream",
     "text": [
      "Hello, I am the child class Cat\n"
     ]
    }
   ],
   "source": [
    "q.walk()  # so here data is overwriden "
   ]
  },
  {
   "cell_type": "code",
   "execution_count": 81,
   "id": "1260f00e-ba5b-43a6-a560-403925c4066f",
   "metadata": {},
   "outputs": [
    {
     "name": "stdout",
     "output_type": "stream",
     "text": [
      "Cat communicates with Meows\n"
     ]
    }
   ],
   "source": [
    "q.meow()"
   ]
  },
  {
   "cell_type": "code",
   "execution_count": null,
   "id": "149509e8-750e-442b-bd68-7b3bd0cf0a30",
   "metadata": {},
   "outputs": [],
   "source": []
  }
 ],
 "metadata": {
  "kernelspec": {
   "display_name": "Python 3 (ipykernel)",
   "language": "python",
   "name": "python3"
  },
  "language_info": {
   "codemirror_mode": {
    "name": "ipython",
    "version": 3
   },
   "file_extension": ".py",
   "mimetype": "text/x-python",
   "name": "python",
   "nbconvert_exporter": "python",
   "pygments_lexer": "ipython3",
   "version": "3.10.8"
  }
 },
 "nbformat": 4,
 "nbformat_minor": 5
}
