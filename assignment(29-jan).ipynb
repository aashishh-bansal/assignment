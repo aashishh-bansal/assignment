{
 "cells": [
  {
   "cell_type": "markdown",
   "id": "6d93ecaf-10aa-4f76-915f-756cedb301ac",
   "metadata": {},
   "source": [
    "ans1 : Guido Van Rossum developed the python programming language"
   ]
  },
  {
   "cell_type": "code",
   "execution_count": null,
   "id": "7c0436af-519b-4d76-8c2e-8f79d709db17",
   "metadata": {},
   "outputs": [],
   "source": [
    "ans2 : Object Oreinted programming and structured programming are supported by python"
   ]
  },
  {
   "cell_type": "code",
   "execution_count": null,
   "id": "1fb718ca-e452-4a4d-8443-5dbe542e5181",
   "metadata": {},
   "outputs": [],
   "source": [
    "ans3: Yes, python is a case sensitive programming language when dealing with the identifiers."
   ]
  },
  {
   "cell_type": "code",
   "execution_count": null,
   "id": "1fe55c80-ac53-49bb-ab4c-15c01988e2a5",
   "metadata": {},
   "outputs": [],
   "source": [
    "ans4: .py is the correct extension"
   ]
  },
  {
   "cell_type": "code",
   "execution_count": null,
   "id": "ee3ee346-e3cd-4e1a-b76e-bf66d572d2fb",
   "metadata": {},
   "outputs": [],
   "source": [
    "ans5: python code is interpreted"
   ]
  },
  {
   "cell_type": "code",
   "execution_count": null,
   "id": "e26dbfa4-5e00-461d-bd34-bdd2c238d28f",
   "metadata": {},
   "outputs": [],
   "source": [
    "ans6: indentation , braces{} etc"
   ]
  },
  {
   "cell_type": "code",
   "execution_count": null,
   "id": "2e34aa37-2ba5-4ebe-b02e-4e580cc7aa96",
   "metadata": {},
   "outputs": [],
   "source": [
    "ans7: #(Hash) character"
   ]
  },
  {
   "cell_type": "code",
   "execution_count": null,
   "id": "ec9d51e9-d3a2-4fae-9ad3-e6f0f2cacf4d",
   "metadata": {},
   "outputs": [],
   "source": [
    "ans8: import sys\n",
    "      print(sys.version)"
   ]
  },
  {
   "cell_type": "code",
   "execution_count": null,
   "id": "429aaa7a-6a62-402f-b4a3-e0ed35985397",
   "metadata": {},
   "outputs": [],
   "source": [
    "ans9 : lambda"
   ]
  },
  {
   "cell_type": "code",
   "execution_count": null,
   "id": "d7658090-a2d6-4b02-9cfa-bcf1521d6159",
   "metadata": {},
   "outputs": [],
   "source": [
    "ans10 : pip- preferred installer program"
   ]
  },
  {
   "cell_type": "code",
   "execution_count": null,
   "id": "26c1f7f7-ccdf-4775-9a68-fc7b2cffcf09",
   "metadata": {},
   "outputs": [],
   "source": [
    "ans11 : Some built-in functions in python are length(), count(), del(), reverse(), pop() etc"
   ]
  },
  {
   "cell_type": "code",
   "execution_count": null,
   "id": "157aa3d8-21f0-4215-90fd-5584a0ab0e8a",
   "metadata": {},
   "outputs": [],
   "source": [
    "ans12 : maximum of 79 characters "
   ]
  },
  {
   "cell_type": "code",
   "execution_count": null,
   "id": "f5598b36-db23-45a6-8efe-9313ab8d64a3",
   "metadata": {},
   "outputs": [],
   "source": [
    "ans13 : some useful benefits of using python are as follows:\n",
    "        1- It is used in data science.\n",
    "        2- It is used in web developement.\n",
    "        3- Used in computer graphics\n",
    "        4- Used in basic game developements.\n",
    "        5- Used in security and penetration testing."
   ]
  },
  {
   "cell_type": "code",
   "execution_count": null,
   "id": "65ae7e4d-88b0-481f-acc5-b091854f247a",
   "metadata": {},
   "outputs": [],
   "source": [
    "ans14 : Memory management in python involves a private heap containing all python objects and data structures."
   ]
  },
  {
   "cell_type": "code",
   "execution_count": null,
   "id": "da3134e2-36d8-462c-b4f1-9c02ab02da98",
   "metadata": {},
   "outputs": [],
   "source": [
    "ans15 : 1- Right-clicking This PC and going to Properties.\n",
    "        2- Clicking on the Advanced system settings in the menu on the left.\n",
    "        3- Clicking on the Environment Variables button o​n the bottom right.\n",
    "        4- In the System variables section, selecting the Path variable and clicking on Edit. The next screen will show all the directories that are currently a part of the PATH variable.\n",
    "        5- Clicking on New and entering Python’s install directory."
   ]
  },
  {
   "cell_type": "code",
   "execution_count": null,
   "id": "209341f5-6490-4629-9c53-9cd94c4f4516",
   "metadata": {},
   "outputs": [],
   "source": [
    "ans16 : Yes, indentatiopn is required in Python programming language."
   ]
  }
 ],
 "metadata": {
  "kernelspec": {
   "display_name": "",
   "name": ""
  },
  "language_info": {
   "name": ""
  }
 },
 "nbformat": 4,
 "nbformat_minor": 5
}
