{
 "cells": [
  {
   "cell_type": "code",
   "execution_count": 1,
   "id": "4a846b52-ca35-46e9-a9e0-99a31757ba39",
   "metadata": {},
   "outputs": [],
   "source": [
    "# ANS 1"
   ]
  },
  {
   "cell_type": "markdown",
   "id": "4f417802-21f6-4129-84af-737f705246c8",
   "metadata": {},
   "source": [
    "CLASS: class basically the classification of the real world entities nad also we can say that the blueprint of the real world entities. like class of integers, class of float etc"
   ]
  },
  {
   "cell_type": "markdown",
   "id": "468b1545-037f-4bee-a7df-de56a606ddf4",
   "metadata": {},
   "source": [
    "OBJECT: object is basicaally the real world entity which we are going to classify in the class. It is also called instance. Object is may be a variable, a constant etc. For example x is a variable of integer class, so here x is the object of interger class."
   ]
  },
  {
   "cell_type": "code",
   "execution_count": 2,
   "id": "f1c7ddcc-2624-4de3-bc93-9454a2b1fcff",
   "metadata": {},
   "outputs": [],
   "source": [
    "# ANS 2"
   ]
  },
  {
   "cell_type": "markdown",
   "id": "a5bb4eb2-1fb9-4e50-bb5e-75b26ba4c3e9",
   "metadata": {},
   "source": [
    "Four pillar of OOPS are given below:"
   ]
  },
  {
   "cell_type": "markdown",
   "id": "33144d60-a816-4b0c-b1f8-826804b6c988",
   "metadata": {},
   "source": [
    "1. Polymorphism: which says that someone who holds multiple character at a single time. i.e. in python we have '+' operator which somewhere use as addition while somewhere use as concatenation."
   ]
  },
  {
   "cell_type": "markdown",
   "id": "bc93dfbf-df34-4ec0-bee9-d4531cc8293d",
   "metadata": {},
   "source": [
    "2. Encapsulation: which says that to hide something in a capsule or in python we understand by encapsulation is that hiding the confidential data from the user from accessing or viewing, or the data which we do nopt want to a user to access or to alter that particular data, encapsulation is used."
   ]
  },
  {
   "cell_type": "markdown",
   "id": "d0c26d69-5442-4a97-8095-e8f3e76bd13a",
   "metadata": {},
   "source": [
    "3. Inheritence: which say that, like in humans we inherit a lot of characters from our parents , grandparents. so like this in python data of one function or class can be inherited in other function or class, this property of python is known as inheritence."
   ]
  },
  {
   "cell_type": "markdown",
   "id": "241152c7-ec56-4135-883a-4799681b2fea",
   "metadata": {},
   "source": [
    "4. Abstraction:  which says that, hiding the un-necessary data from the user to make it simple to run the things."
   ]
  },
  {
   "cell_type": "code",
   "execution_count": 4,
   "id": "aeb41bfd-b3ea-40d0-a2a9-f85c57d933fd",
   "metadata": {},
   "outputs": [],
   "source": [
    "# ANS 3"
   ]
  },
  {
   "cell_type": "markdown",
   "id": "23777fe0-6253-431a-8449-15447cac020f",
   "metadata": {},
   "source": [
    "__int__() is used to enter the data in the class defined by us. that means if we define a new class and if we want to enter the data in that particular class __int__() function is used. It is illustrated with an wexample below..."
   ]
  },
  {
   "cell_type": "code",
   "execution_count": 19,
   "id": "c6094ad9-0f84-47f5-a97a-d3bd2bbe9dfd",
   "metadata": {},
   "outputs": [],
   "source": [
    "class classs():\n",
    "    def __init__(self, name,phone_num):\n",
    "        self.name=name\n",
    "        self.phone=phone_num\n",
    "    def return1(self):\n",
    "        print(self.name,self.phone)"
   ]
  },
  {
   "cell_type": "code",
   "execution_count": 23,
   "id": "da60af3d-e462-44ae-9f62-784b61cdb50b",
   "metadata": {},
   "outputs": [],
   "source": [
    "a=classs('ashish bansal',87654)"
   ]
  },
  {
   "cell_type": "code",
   "execution_count": 21,
   "id": "341897a3-03e0-44bd-be75-33e8b9defb97",
   "metadata": {},
   "outputs": [
    {
     "name": "stdout",
     "output_type": "stream",
     "text": [
      "<__main__.classs object at 0x7f636cf1d360>\n"
     ]
    }
   ],
   "source": [
    "print(a)"
   ]
  },
  {
   "cell_type": "code",
   "execution_count": 24,
   "id": "51cdce0a-f612-48a2-a2e0-1a4935fa17ef",
   "metadata": {},
   "outputs": [
    {
     "data": {
      "text/plain": [
       "'ashish bansal'"
      ]
     },
     "execution_count": 24,
     "metadata": {},
     "output_type": "execute_result"
    }
   ],
   "source": [
    "a.name"
   ]
  },
  {
   "cell_type": "markdown",
   "id": "c3bbb586-e42b-4afd-bfe8-8d28cb14b80e",
   "metadata": {},
   "source": [
    "so in the above example __init__ is used to enter the data inside the which is defined by us."
   ]
  },
  {
   "cell_type": "code",
   "execution_count": 26,
   "id": "1c4fea77-4349-4ab3-9f52-429ccde91557",
   "metadata": {},
   "outputs": [
    {
     "data": {
      "text/plain": [
       "__main__.classs"
      ]
     },
     "execution_count": 26,
     "metadata": {},
     "output_type": "execute_result"
    }
   ],
   "source": [
    "type(a)"
   ]
  },
  {
   "cell_type": "code",
   "execution_count": 27,
   "id": "4ba2716c-3300-4f5a-9aec-2d52b22a6069",
   "metadata": {},
   "outputs": [],
   "source": [
    "# ANS 4"
   ]
  },
  {
   "cell_type": "markdown",
   "id": "a0713477-082f-499d-adb0-fc6d1f3373b0",
   "metadata": {},
   "source": [
    "Self is basically used as a pointer in the python which represents the instance of the class defined by us. It is basically provide the refrence for the class. It binds the attributes with the given arguments. The reason we need to use self is because Python does not use the @ syntax to refer to instance attributes."
   ]
  },
  {
   "cell_type": "code",
   "execution_count": 30,
   "id": "ebb92768-5cd5-4ffc-8f51-1a4c1eb8e975",
   "metadata": {},
   "outputs": [],
   "source": [
    "# ANS 5"
   ]
  },
  {
   "cell_type": "markdown",
   "id": "7ad0d601-4592-4165-af19-74b844d20601",
   "metadata": {},
   "source": [
    "Inheritence: which say that, like in humans we inherit a lot of characters from our parents , grandparents. so like this in python data of one function or class can be inherited in other function or class, this property of python is known as inheritence."
   ]
  },
  {
   "cell_type": "markdown",
   "id": "e1c17751-54cd-4ac6-9a49-b7b18a3ba640",
   "metadata": {},
   "source": [
    " Inheritence are of many types but we mainly read two---\n",
    "    1. multilevel inheritence\n",
    "    2. multiple inheritence"
   ]
  },
  {
   "cell_type": "markdown",
   "id": "1e554bbf-1b6a-4ebd-b616-dbc4374102e8",
   "metadata": {},
   "source": [
    "Example of multi level inheritence is given as "
   ]
  },
  {
   "cell_type": "code",
   "execution_count": 64,
   "id": "7b489680-862e-4da4-a44f-d3ad31e2f826",
   "metadata": {},
   "outputs": [],
   "source": [
    "class ashish():\n",
    "    def method1(self):\n",
    "        return('this is ashish bansal')"
   ]
  },
  {
   "cell_type": "code",
   "execution_count": 65,
   "id": "ce8886d4-338f-4e03-ac21-574d9e08188c",
   "metadata": {},
   "outputs": [],
   "source": [
    "class aman(ashish):\n",
    "    def method2(self):\n",
    "        return('this is my data science class')"
   ]
  },
  {
   "cell_type": "code",
   "execution_count": 66,
   "id": "dfb70c59-3960-4ee4-b945-820e182a81f7",
   "metadata": {},
   "outputs": [],
   "source": [
    "class bansal(aman):\n",
    "    def method3(self):\n",
    "        return('this is the best platform for learning')"
   ]
  },
  {
   "cell_type": "code",
   "execution_count": 67,
   "id": "288af1f4-6df0-439f-ac6c-8e04991ec776",
   "metadata": {},
   "outputs": [],
   "source": [
    "a=bansal()"
   ]
  },
  {
   "cell_type": "code",
   "execution_count": 68,
   "id": "7dfafbf7-bddb-4a76-9d4f-615c69ee0a7f",
   "metadata": {},
   "outputs": [
    {
     "data": {
      "text/plain": [
       "'this is ashish bansal'"
      ]
     },
     "execution_count": 68,
     "metadata": {},
     "output_type": "execute_result"
    }
   ],
   "source": [
    "a.method1()"
   ]
  },
  {
   "cell_type": "code",
   "execution_count": 69,
   "id": "3165a024-f143-4a2e-9bde-fd7016a6881b",
   "metadata": {},
   "outputs": [
    {
     "data": {
      "text/plain": [
       "'this is my data science class'"
      ]
     },
     "execution_count": 69,
     "metadata": {},
     "output_type": "execute_result"
    }
   ],
   "source": [
    "a.method2()"
   ]
  },
  {
   "cell_type": "code",
   "execution_count": 70,
   "id": "ce873b87-7c79-41e5-b815-888342d3cc5d",
   "metadata": {},
   "outputs": [
    {
     "data": {
      "text/plain": [
       "'this is the best platform for learning'"
      ]
     },
     "execution_count": 70,
     "metadata": {},
     "output_type": "execute_result"
    }
   ],
   "source": [
    "a.method3()"
   ]
  },
  {
   "cell_type": "markdown",
   "id": "6bdb5d2a-ec65-4344-bec4-ce903a449723",
   "metadata": {},
   "source": [
    "so here we create a variable of bansal class but from this variable we can access the class ashish and class aman as well so this is the inheritence of multilevel type in this we not only derive a class from the superclass but we can also derive a class from the derived class."
   ]
  },
  {
   "cell_type": "markdown",
   "id": "56a84b72-21f0-46df-8987-9b6c5ce5a0ea",
   "metadata": {},
   "source": [
    "Example of multiple type inheritence"
   ]
  },
  {
   "cell_type": "code",
   "execution_count": 85,
   "id": "98ded05f-5aa8-4b93-b865-af1d9b670ea4",
   "metadata": {},
   "outputs": [],
   "source": [
    "class ritu:\n",
    "    def method4(self):\n",
    "        return('hi this is data science class')"
   ]
  },
  {
   "cell_type": "code",
   "execution_count": 86,
   "id": "593f4bb9-a55a-4ef3-9c02-e9bbe988b06a",
   "metadata": {},
   "outputs": [],
   "source": [
    "class priya:\n",
    "    def method5(self):\n",
    "        return('this is best class ever i studied')"
   ]
  },
  {
   "cell_type": "code",
   "execution_count": 87,
   "id": "f75f68f4-87f3-444f-a1dd-3725f9595f65",
   "metadata": {},
   "outputs": [],
   "source": [
    "class gauri(ritu,priya):\n",
    "    def method6(self):\n",
    "        print('this is physicswala class platform')"
   ]
  },
  {
   "cell_type": "code",
   "execution_count": 88,
   "id": "04f33fd8-3958-4906-9c33-f13313a6793e",
   "metadata": {},
   "outputs": [],
   "source": [
    "p=gauri()"
   ]
  },
  {
   "cell_type": "code",
   "execution_count": 89,
   "id": "aa6af861-0e6d-46f8-8ad6-fab1308f4135",
   "metadata": {},
   "outputs": [
    {
     "data": {
      "text/plain": [
       "'hi this is data science class'"
      ]
     },
     "execution_count": 89,
     "metadata": {},
     "output_type": "execute_result"
    }
   ],
   "source": [
    "p.method4()"
   ]
  },
  {
   "cell_type": "code",
   "execution_count": 90,
   "id": "8afe8a32-513c-4f0f-94f9-7b83ddc8c334",
   "metadata": {},
   "outputs": [
    {
     "data": {
      "text/plain": [
       "'this is best class ever i studied'"
      ]
     },
     "execution_count": 90,
     "metadata": {},
     "output_type": "execute_result"
    }
   ],
   "source": [
    "p.method5()"
   ]
  },
  {
   "cell_type": "code",
   "execution_count": 91,
   "id": "ad13bae4-b611-467d-bf49-1d9fede2b9ff",
   "metadata": {},
   "outputs": [
    {
     "name": "stdout",
     "output_type": "stream",
     "text": [
      "this is physicswala class platform\n"
     ]
    }
   ],
   "source": [
    "p.method6()"
   ]
  },
  {
   "cell_type": "markdown",
   "id": "f3910990-1c0e-405e-80d2-9d3c75766a25",
   "metadata": {},
   "source": [
    "so in this type of inheritence a class can inherit multiple classes at a time so this is known as multiple inheritence"
   ]
  }
 ],
 "metadata": {
  "kernelspec": {
   "display_name": "Python 3 (ipykernel)",
   "language": "python",
   "name": "python3"
  },
  "language_info": {
   "codemirror_mode": {
    "name": "ipython",
    "version": 3
   },
   "file_extension": ".py",
   "mimetype": "text/x-python",
   "name": "python",
   "nbconvert_exporter": "python",
   "pygments_lexer": "ipython3",
   "version": "3.10.8"
  }
 },
 "nbformat": 4,
 "nbformat_minor": 5
}
