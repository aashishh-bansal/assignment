{
 "cells": [
  {
   "cell_type": "code",
   "execution_count": 1,
   "id": "a0b53650-432c-402b-b356-218b8738afba",
   "metadata": {},
   "outputs": [],
   "source": [
    "# ANS 1"
   ]
  },
  {
   "cell_type": "markdown",
   "id": "b0a09096-1010-4015-b2a6-d0fab9acb83a",
   "metadata": {},
   "source": [
    "open() function is used to open a file."
   ]
  },
  {
   "cell_type": "markdown",
   "id": "87c39c53-6c4e-43f5-8650-7014af880a59",
   "metadata": {},
   "source": [
    "Different modes of opening a file are described below:\n",
    "    \n",
    "\n",
    "'r'    :   open a file in reading mode. It is det by default if any one mode is not given.\n",
    "\n",
    "'w'    :   open a file in writing mode, if we wnat to write something in file we have to open a file in write mode.\n",
    "\n",
    "'x'    :   create a new file and open it for writing\n",
    "\n",
    "'a'    :   open for writing, appending to the end of the file if it exists\n",
    "\n",
    "'b'    :   open a finle in binary mode.\n",
    "\n",
    "'+'    :   open a disk file for updating (reading and writing)\n",
    "\n",
    "'U'    :   universal newline mode (deprecated)"
   ]
  },
  {
   "cell_type": "code",
   "execution_count": 4,
   "id": "2293423f-c4e3-45f8-b1cb-cdf359c552c7",
   "metadata": {},
   "outputs": [],
   "source": [
    "# ANS 2"
   ]
  },
  {
   "cell_type": "markdown",
   "id": "85bce116-8123-427a-9ca0-858ab7d53b2f",
   "metadata": {},
   "source": [
    "close() function is used to close the file after writing the file.\n",
    "It is important to close a file using close() function because if it is not so, then the file does not show any changes in it untill we close it. so if we want to get the changes in the file which we are did, we have to close the file using the close() function."
   ]
  },
  {
   "cell_type": "code",
   "execution_count": 1,
   "id": "8df12bb6-0e56-4d42-8b78-b6ce3da37d8e",
   "metadata": {},
   "outputs": [],
   "source": [
    "# ANS 3"
   ]
  },
  {
   "cell_type": "code",
   "execution_count": 25,
   "id": "5e826331-06c0-4d99-aff7-9bf4ac5e9ad6",
   "metadata": {},
   "outputs": [],
   "source": [
    "a=open('pwskills.txt','w')"
   ]
  },
  {
   "cell_type": "code",
   "execution_count": 26,
   "id": "2a841c86-e0c4-45c6-990e-7685d992afed",
   "metadata": {},
   "outputs": [
    {
     "data": {
      "text/plain": [
       "31"
      ]
     },
     "execution_count": 26,
     "metadata": {},
     "output_type": "execute_result"
    }
   ],
   "source": [
    "a.write('I want to become Data Scientist')"
   ]
  },
  {
   "cell_type": "code",
   "execution_count": 27,
   "id": "97fd17ad-38bd-41a9-8905-458615f73122",
   "metadata": {},
   "outputs": [],
   "source": [
    "a.close()"
   ]
  },
  {
   "cell_type": "code",
   "execution_count": 28,
   "id": "cb2ddf80-669c-4cfe-a268-18b2995d9077",
   "metadata": {},
   "outputs": [],
   "source": [
    "a=open('pwskills.txt','r')"
   ]
  },
  {
   "cell_type": "code",
   "execution_count": 29,
   "id": "68973d53-37dc-4846-a5c3-6820585bc2d6",
   "metadata": {},
   "outputs": [],
   "source": [
    "b=a.read()"
   ]
  },
  {
   "cell_type": "code",
   "execution_count": 30,
   "id": "4b6ee192-361a-4f31-be3d-7f38d1c9d179",
   "metadata": {},
   "outputs": [
    {
     "name": "stdout",
     "output_type": "stream",
     "text": [
      "I want to become Data Scientist\n"
     ]
    }
   ],
   "source": [
    "print(b)"
   ]
  },
  {
   "cell_type": "code",
   "execution_count": 2,
   "id": "2827da94-6a40-49c5-ae51-232818fc4716",
   "metadata": {},
   "outputs": [],
   "source": [
    "# ANS 4"
   ]
  },
  {
   "cell_type": "markdown",
   "id": "6f0c5ea6-b20b-404f-aa58-b0a12948cfb2",
   "metadata": {},
   "source": [
    "read()"
   ]
  },
  {
   "cell_type": "markdown",
   "id": "54dcad3e-5a5e-43c2-9a73-3181b63890b0",
   "metadata": {},
   "source": [
    "read is used to read a file as shown in example."
   ]
  },
  {
   "cell_type": "code",
   "execution_count": 48,
   "id": "b4a93da8-9767-46ec-8bfd-a4f0f0345ab6",
   "metadata": {},
   "outputs": [],
   "source": [
    "c=open('pw.txt','w')"
   ]
  },
  {
   "cell_type": "code",
   "execution_count": 49,
   "id": "70e44d1d-67c8-493c-b3d2-2652fdefa1c7",
   "metadata": {},
   "outputs": [
    {
     "data": {
      "text/plain": [
       "74"
      ]
     },
     "execution_count": 49,
     "metadata": {},
     "output_type": "execute_result"
    }
   ],
   "source": [
    "c.write('i want to become data scientist and also want a good job in a good company')"
   ]
  },
  {
   "cell_type": "code",
   "execution_count": 50,
   "id": "8d558b95-cbba-4368-95cf-3d284e28c4e0",
   "metadata": {},
   "outputs": [],
   "source": [
    "c.close()"
   ]
  },
  {
   "cell_type": "code",
   "execution_count": 51,
   "id": "a822afe9-4674-4489-b649-b0ec7e2de336",
   "metadata": {},
   "outputs": [],
   "source": [
    "c=open('pw.txt','r')"
   ]
  },
  {
   "cell_type": "code",
   "execution_count": 52,
   "id": "2d610780-c494-448a-9f68-ebfdff7787f6",
   "metadata": {},
   "outputs": [
    {
     "data": {
      "text/plain": [
       "'i want to become data scientist and also want a good job in a good company'"
      ]
     },
     "execution_count": 52,
     "metadata": {},
     "output_type": "execute_result"
    }
   ],
   "source": [
    "c.read()  # here read is used to read the data of file pw.txt"
   ]
  },
  {
   "cell_type": "markdown",
   "id": "2849c4a1-50f9-46d2-bc51-fbf9725ec44d",
   "metadata": {},
   "source": [
    "readline()"
   ]
  },
  {
   "cell_type": "markdown",
   "id": "b181c4c7-9a01-43c3-b43b-91b71deec2f0",
   "metadata": {},
   "source": [
    "readline is used to get a line from the line as string or it is uesd to read the data from a particular position or upto a particular postion"
   ]
  },
  {
   "cell_type": "code",
   "execution_count": 57,
   "id": "aa97a874-18e5-4158-a70f-d0dbf066c91b",
   "metadata": {},
   "outputs": [],
   "source": [
    "c.close()"
   ]
  },
  {
   "cell_type": "code",
   "execution_count": 58,
   "id": "465e5380-8ec8-46d4-8422-b2d5e289e92a",
   "metadata": {},
   "outputs": [],
   "source": [
    "c=open('pw.txt','w')"
   ]
  },
  {
   "cell_type": "code",
   "execution_count": 59,
   "id": "8d2868c9-52ad-4007-9d17-00b604cbf03e",
   "metadata": {},
   "outputs": [
    {
     "data": {
      "text/plain": [
       "245"
      ]
     },
     "execution_count": 59,
     "metadata": {},
     "output_type": "execute_result"
    }
   ],
   "source": [
    "c.write('We are proud of our achievers to have proved their success through hard-work and dedication which has enabled them to make their dreams come true. You too can be part of the PW Skills achiever group only if you stay consistent and be determined.')"
   ]
  },
  {
   "cell_type": "code",
   "execution_count": 60,
   "id": "3b10498e-8f75-489a-866c-cab63dba6f5f",
   "metadata": {},
   "outputs": [],
   "source": [
    "c.close()"
   ]
  },
  {
   "cell_type": "code",
   "execution_count": 61,
   "id": "f69c5d14-2c54-4a52-bd0d-b11567d246d3",
   "metadata": {},
   "outputs": [],
   "source": [
    "c=open('pw.txt','r')"
   ]
  },
  {
   "cell_type": "code",
   "execution_count": 66,
   "id": "88ff3d7e-b001-4ee0-a059-715a124ed11b",
   "metadata": {},
   "outputs": [
    {
     "data": {
      "text/plain": [
       "''"
      ]
     },
     "execution_count": 66,
     "metadata": {},
     "output_type": "execute_result"
    }
   ],
   "source": [
    "c.readline()"
   ]
  },
  {
   "cell_type": "code",
   "execution_count": 67,
   "id": "9e748242-df91-4ca4-b9bd-0a498011042a",
   "metadata": {},
   "outputs": [
    {
     "data": {
      "text/plain": [
       "0"
      ]
     },
     "execution_count": 67,
     "metadata": {},
     "output_type": "execute_result"
    }
   ],
   "source": [
    "c.seek(0) # here we move the pointer to 0 index so nopw readline gives us data from the zeroth index."
   ]
  },
  {
   "cell_type": "code",
   "execution_count": 68,
   "id": "d8719213-c443-4e7a-8eb3-0d3ea74b10c1",
   "metadata": {},
   "outputs": [
    {
     "data": {
      "text/plain": [
       "'We are proud of our achievers to have proved their success through hard-work and dedication which has enabled them to make their dreams come true. You too can be part of the PW Skills achiever group only if you stay consistent and be determined.'"
      ]
     },
     "execution_count": 68,
     "metadata": {},
     "output_type": "execute_result"
    }
   ],
   "source": [
    "c.readline()"
   ]
  },
  {
   "cell_type": "code",
   "execution_count": 71,
   "id": "7f8874b8-75a8-46b9-930a-e6239f27b88a",
   "metadata": {},
   "outputs": [
    {
     "data": {
      "text/plain": [
       "10"
      ]
     },
     "execution_count": 71,
     "metadata": {},
     "output_type": "execute_result"
    }
   ],
   "source": [
    "c.seek(10)  # now here we set the starting index 10 so now readline gives us data from the 10 index."
   ]
  },
  {
   "cell_type": "code",
   "execution_count": 72,
   "id": "ceed903c-0fe3-46cd-8bd5-14180053ec3a",
   "metadata": {},
   "outputs": [
    {
     "data": {
      "text/plain": [
       "'ud of our achievers to have proved their success through hard-work and dedication which has enabled them to make their dreams come true. You too can be part of the PW Skills achiever group only if you stay consistent and be determined.'"
      ]
     },
     "execution_count": 72,
     "metadata": {},
     "output_type": "execute_result"
    }
   ],
   "source": [
    "c.readline()"
   ]
  },
  {
   "cell_type": "markdown",
   "id": "0cb6b9d1-6223-44d2-b52b-9364b947fa88",
   "metadata": {},
   "source": [
    "readlines()"
   ]
  },
  {
   "cell_type": "markdown",
   "id": "98d38741-0342-4bb9-b94c-280020636265",
   "metadata": {},
   "source": [
    "readlines() is used to return all lines present in the file as a list items as in example:"
   ]
  },
  {
   "cell_type": "code",
   "execution_count": 73,
   "id": "07d30f48-993f-4768-bcc3-4594c19562e1",
   "metadata": {},
   "outputs": [],
   "source": [
    "c.close()"
   ]
  },
  {
   "cell_type": "code",
   "execution_count": 74,
   "id": "55e7c21f-8e01-4564-afa4-7091b23016ef",
   "metadata": {},
   "outputs": [],
   "source": [
    "c=open('pw.txt','w')"
   ]
  },
  {
   "cell_type": "code",
   "execution_count": 75,
   "id": "eff069bb-6928-4b8d-9ae5-b420f82000ac",
   "metadata": {},
   "outputs": [
    {
     "data": {
      "text/plain": [
       "877"
      ]
     },
     "execution_count": 75,
     "metadata": {},
     "output_type": "execute_result"
    }
   ],
   "source": [
    "c.write(\"The company has since rapidly grown to offer a multitude of products and services beyond Google Search, many of which hold dominant market positions. These products address a wide range of use cases, including email (Gmail), navigation (Waze & Maps), cloud computing (Cloud), web browsing (Chrome), video sharing (YouTube), productivity (Workspace), operating systems (Android), cloud storage (Drive), language translation (Translate), photo storage (Photos), video calling (Meet), smart home (Nest), smartphones (Pixel), wearable technology (Pixel Watch & Fitbit), music streaming (YouTube Music), video on demand (YouTube TV), artificial intelligence (Google Assistant), machine learning APIs (TensorFlow), AI chips (TPU), and more. Discontinued Google products include gaming (Stadia), Glass,[citation needed] Google+, Reader, Play Music, Nexus, Hangouts, and Inbox by Gmail\")"
   ]
  },
  {
   "cell_type": "code",
   "execution_count": 82,
   "id": "7ccad521-ca21-48cd-8c6f-9a82baeae532",
   "metadata": {},
   "outputs": [],
   "source": [
    "c.close()"
   ]
  },
  {
   "cell_type": "code",
   "execution_count": 83,
   "id": "d497a8d0-e491-4688-a286-5e8758c3f87a",
   "metadata": {},
   "outputs": [],
   "source": [
    "c=open('pw.txt','r')"
   ]
  },
  {
   "cell_type": "code",
   "execution_count": 84,
   "id": "4fe556d1-f98b-4f24-8483-40b7e0ffb599",
   "metadata": {},
   "outputs": [
    {
     "data": {
      "text/plain": [
       "['The company has since rapidly grown to offer a multitude of products and services beyond Google Search, many of which hold dominant market positions. These products address a wide range of use cases, including email (Gmail), navigation (Waze & Maps), cloud computing (Cloud), web browsing (Chrome), video sharing (YouTube), productivity (Workspace), operating systems (Android), cloud storage (Drive), language translation (Translate), photo storage (Photos), video calling (Meet), smart home (Nest), smartphones (Pixel), wearable technology (Pixel Watch & Fitbit), music streaming (YouTube Music), video on demand (YouTube TV), artificial intelligence (Google Assistant), machine learning APIs (TensorFlow), AI chips (TPU), and more. Discontinued Google products include gaming (Stadia), Glass,[citation needed] Google+, Reader, Play Music, Nexus, Hangouts, and Inbox by Gmail']"
      ]
     },
     "execution_count": 84,
     "metadata": {},
     "output_type": "execute_result"
    }
   ],
   "source": [
    "c.readlines()   # here readlines gives us the the each line of file as a list item."
   ]
  },
  {
   "cell_type": "code",
   "execution_count": 85,
   "id": "476ec936-d641-4015-af2f-e491dca8a95d",
   "metadata": {},
   "outputs": [],
   "source": [
    "# ANS 5"
   ]
  },
  {
   "cell_type": "markdown",
   "id": "c0661cca-6dd4-4910-8791-1c0c488ec647",
   "metadata": {},
   "source": [
    "with statement is used with open() to open a file beacuase if we open a file using open() statement we have to close the file each and every time to make changes in the file but if we use with statement with open() there is no need to close the file because with statement closes the file automatically without informing us which makes the code somewhat easy, and this is the benefit of using with statement with open() to oopen a file."
   ]
  },
  {
   "cell_type": "code",
   "execution_count": 86,
   "id": "b644c0b2-17f7-439a-95f2-fdb1237ec22c",
   "metadata": {},
   "outputs": [],
   "source": [
    "# ANS 6"
   ]
  },
  {
   "cell_type": "markdown",
   "id": "42d3ee67-cd08-42fe-a132-fd2821d8632a",
   "metadata": {},
   "source": [
    "write() : write() is used to write the content in the file. For example:"
   ]
  },
  {
   "cell_type": "code",
   "execution_count": 106,
   "id": "0cb94060-49ea-44f8-8cbb-64ed0eee9b87",
   "metadata": {},
   "outputs": [],
   "source": [
    "with open('skills.txt','w') as f:\n",
    "    f.write('this is my file for assignment')  # so here write is used to enter the data in file."
   ]
  },
  {
   "cell_type": "code",
   "execution_count": 107,
   "id": "c29f8660-4130-4e1f-9bd2-da9898e44da6",
   "metadata": {},
   "outputs": [
    {
     "name": "stdout",
     "output_type": "stream",
     "text": [
      "this is my file for assignment\n"
     ]
    }
   ],
   "source": [
    "with open('skills.txt','r') as f:       \n",
    "    print(f.read())                           "
   ]
  },
  {
   "cell_type": "code",
   "execution_count": 115,
   "id": "e5f67b24-57e3-4022-9d56-eb763a730898",
   "metadata": {},
   "outputs": [],
   "source": [
    "with open('skills.txt','a') as f:\n",
    "    f.writelines('[1,2,3,4,5,6,7,8,9,9]')"
   ]
  },
  {
   "cell_type": "code",
   "execution_count": 117,
   "id": "cb8c6a2c-56e2-4e26-8bbd-30556e5894ce",
   "metadata": {},
   "outputs": [
    {
     "name": "stdout",
     "output_type": "stream",
     "text": [
      "this is my file for assignmentpwskills is the best platformpwskills is the best platformpwskills is the best platform[1,2,3,4,5,6,7,8,9,9]\n"
     ]
    }
   ],
   "source": [
    "with open('skills.txt','r') as f:       \n",
    "    print(f.read())                          "
   ]
  }
 ],
 "metadata": {
  "kernelspec": {
   "display_name": "Python 3 (ipykernel)",
   "language": "python",
   "name": "python3"
  },
  "language_info": {
   "codemirror_mode": {
    "name": "ipython",
    "version": 3
   },
   "file_extension": ".py",
   "mimetype": "text/x-python",
   "name": "python",
   "nbconvert_exporter": "python",
   "pygments_lexer": "ipython3",
   "version": "3.10.8"
  }
 },
 "nbformat": 4,
 "nbformat_minor": 5
}
