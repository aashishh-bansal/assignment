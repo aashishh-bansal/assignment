{
 "cells": [
  {
   "cell_type": "code",
   "execution_count": 8,
   "id": "bb68f8aa-b0e9-4b56-86d6-9c26c01c54ea",
   "metadata": {},
   "outputs": [],
   "source": [
    "# ANS 1"
   ]
  },
  {
   "cell_type": "markdown",
   "id": "d3ac44ca-73be-49a9-a9eb-3ffb6b199ec3",
   "metadata": {},
   "source": [
    "For loop is used when we know that how many times repeation occurs, for example"
   ]
  },
  {
   "cell_type": "code",
   "execution_count": 15,
   "id": "79652705-dd96-4e72-9c5a-92d830444ca0",
   "metadata": {},
   "outputs": [
    {
     "name": "stdout",
     "output_type": "stream",
     "text": [
      "[1, 2, 3, 4, 5, 6, 7, 8, 9, 10, 11, 12, 13, 14, 15, 16, 17, 18, 19, 20, 21, 22, 23, 24, 25, 26, 27, 28, 29, 30, 31, 32, 33, 34, 35, 36, 37, 38, 39, 40, 41, 42, 43, 44, 45, 46, 47, 48, 49, 50, 51, 52, 53, 54, 55, 56, 57, 58, 59, 60, 61, 62, 63, 64, 65, 66, 67, 68, 69, 70, 71, 72, 73, 74, 75, 76, 77, 78, 79, 80, 81, 82, 83, 84, 85, 86, 87, 88, 89, 90, 91, 92, 93, 94, 95, 96, 97, 98, 99, 100]\n"
     ]
    }
   ],
   "source": [
    "a=[]\n",
    "for i in range(1,101):\n",
    "    a.append(i)\n",
    "print(list(a))\n",
    "# in this example we know that the iteration occur for 100 times so for loop is used"
   ]
  },
  {
   "cell_type": "markdown",
   "id": "af92ad33-067e-4d95-8b6b-af52e5c33668",
   "metadata": {},
   "source": [
    "While loop is used when don't know that how many times the repetition occur or when we check some conditions. for example as below:"
   ]
  },
  {
   "cell_type": "code",
   "execution_count": 17,
   "id": "562e53f9-4fce-4d56-8d97-e63f22ea1cc0",
   "metadata": {},
   "outputs": [
    {
     "name": "stdout",
     "output_type": "stream",
     "text": [
      "[0, 3, 6, 9, 12, 15, 18, 21, 24, 27, 30, 33, 36, 39, 42, 45, 48, 51, 54, 57, 60, 63, 66, 69, 72, 75, 78, 81, 84, 87, 90, 93, 96, 99]\n"
     ]
    }
   ],
   "source": [
    "a=[]\n",
    "i=0\n",
    "while i<=100:\n",
    "    a.append(i)\n",
    "    i=i+3\n",
    "print(list(a))\n",
    "# here we don't know that how many iterations occur but we have a condition to satisfy, until this condition\n",
    "#true it get repet itself aagain and again, but if condition become false, it get terminate"
   ]
  },
  {
   "cell_type": "code",
   "execution_count": 1,
   "id": "8579c95c-8fa6-46fe-a310-3035f3e98c2e",
   "metadata": {},
   "outputs": [],
   "source": [
    "# ANS 2"
   ]
  },
  {
   "cell_type": "code",
   "execution_count": 2,
   "id": "5c7078f4-f0d1-4b63-a1a6-bfc13656719d",
   "metadata": {},
   "outputs": [],
   "source": [
    "# using for loop"
   ]
  },
  {
   "cell_type": "code",
   "execution_count": 3,
   "id": "a9ebffe4-3d16-4b27-bc13-04671ded1584",
   "metadata": {},
   "outputs": [
    {
     "name": "stdout",
     "output_type": "stream",
     "text": [
      "sum is = 55\n",
      "product is = 3628800\n"
     ]
    }
   ],
   "source": [
    "sum=0\n",
    "product=1\n",
    "for i in range(1,11):\n",
    "    sum=sum+i\n",
    "    product=product*i\n",
    "print(\"sum is =\" , sum)\n",
    "print(\"product is =\", product)"
   ]
  },
  {
   "cell_type": "code",
   "execution_count": 4,
   "id": "0e330ce6-2ff5-404a-979c-72f0f543081a",
   "metadata": {},
   "outputs": [],
   "source": [
    "# using while loop"
   ]
  },
  {
   "cell_type": "code",
   "execution_count": 5,
   "id": "864b112a-f2a9-4fa6-8a95-ef72d5898664",
   "metadata": {},
   "outputs": [
    {
     "name": "stdout",
     "output_type": "stream",
     "text": [
      "sum is = 55\n",
      "product is = 3628800\n"
     ]
    }
   ],
   "source": [
    "sum=0\n",
    "product=1\n",
    "i=1\n",
    "while i<=10 :\n",
    "    sum=sum+i\n",
    "    product=product*i\n",
    "    i=i+1\n",
    "print('sum is =' , sum)\n",
    "print('product is =',product)"
   ]
  },
  {
   "cell_type": "code",
   "execution_count": 6,
   "id": "b90d024b-d4e2-45d4-b588-b56a2a943fef",
   "metadata": {},
   "outputs": [],
   "source": [
    "# ANS 3"
   ]
  },
  {
   "cell_type": "code",
   "execution_count": 8,
   "id": "b2c3aef9-d196-4a59-b675-b7604e7c3851",
   "metadata": {},
   "outputs": [
    {
     "name": "stdin",
     "output_type": "stream",
     "text": [
      "enter the units consumed by you up to two decimal places 310\n"
     ]
    },
    {
     "name": "stdout",
     "output_type": "stream",
     "text": [
      "according to ur consumption, your electricity bill is : 2250.0  rupees\n"
     ]
    }
   ],
   "source": [
    "unit=float(input('enter the units consumed by you up to two decimal places'))\n",
    "amt=0\n",
    "if unit>0:\n",
    "    if unit>100:\n",
    "        amt=100*4.5+amt\n",
    "        unit=unit-100\n",
    "        if unit>100:\n",
    "            amt=amt+100*6\n",
    "            unit=unit-100\n",
    "            if unit>100:\n",
    "                amt=amt+100*10\n",
    "                unit=unit-100\n",
    "                if unit>0:\n",
    "                    amt=amt+unit*20\n",
    "            else :\n",
    "                amt=amt+unit*10\n",
    "        else :\n",
    "            amt=amt+unit*6\n",
    "    else :\n",
    "        amt=amt+unit*4.5\n",
    "print('according to ur consumption, your electricity bill is :',amt,' rupees')"
   ]
  },
  {
   "cell_type": "code",
   "execution_count": 2,
   "id": "37d7ef42-f837-4261-8af0-97d2fe52179c",
   "metadata": {},
   "outputs": [],
   "source": [
    "# ANS 4"
   ]
  },
  {
   "cell_type": "code",
   "execution_count": null,
   "id": "78435010-df87-4528-a083-c4d2aa79d192",
   "metadata": {},
   "outputs": [],
   "source": [
    "# using for loop"
   ]
  },
  {
   "cell_type": "code",
   "execution_count": 3,
   "id": "59516585-36fe-4afb-a019-317562cdc871",
   "metadata": {},
   "outputs": [
    {
     "name": "stdout",
     "output_type": "stream",
     "text": [
      "list of 1 to 100 natural numbers is given by :  [1, 2, 3, 4, 5, 6, 7, 8, 9, 10, 11, 12, 13, 14, 15, 16, 17, 18, 19, 20, 21, 22, 23, 24, 25, 26, 27, 28, 29, 30, 31, 32, 33, 34, 35, 36, 37, 38, 39, 40, 41, 42, 43, 44, 45, 46, 47, 48, 49, 50, 51, 52, 53, 54, 55, 56, 57, 58, 59, 60, 61, 62, 63, 64, 65, 66, 67, 68, 69, 70, 71, 72, 73, 74, 75, 76, 77, 78, 79, 80, 81, 82, 83, 84, 85, 86, 87, 88, 89, 90, 91, 92, 93, 94, 95, 96, 97, 98, 99, 100]\n",
      "list of cubes which is divisible by 4 or 5 :  [8, 64, 125, 216, 512, 1000, 1728, 2744, 3375, 4096, 5832, 8000, 10648, 13824, 15625, 17576, 21952, 27000, 32768, 39304, 42875, 46656, 54872, 64000, 74088, 85184, 91125, 97336, 110592, 125000, 140608, 157464, 166375, 175616, 195112, 216000, 238328, 262144, 274625, 287496, 314432, 343000, 373248, 405224, 421875, 438976, 474552, 512000, 551368, 592704, 614125, 636056, 681472, 729000, 778688, 830584, 857375, 884736, 941192, 1000000]\n"
     ]
    }
   ],
   "source": [
    "a=[]\n",
    "c=[]\n",
    "d=[]\n",
    "b=1\n",
    "for i in range(1,101):\n",
    "    a.append(i)\n",
    "for j in a:\n",
    "    b=j*j*j\n",
    "    c.append(b)\n",
    "for k in c:\n",
    "    if k%4==0 or k%5==0:\n",
    "        d.append(k)\n",
    "print('list of 1 to 100 natural numbers is given by : ',list(a))\n",
    "print('list of cubes which is divisible by 4 or 5 : ',list(d))"
   ]
  },
  {
   "cell_type": "code",
   "execution_count": 4,
   "id": "33b55a80-1602-446d-9141-fef2b7461b3f",
   "metadata": {},
   "outputs": [],
   "source": [
    "# using while loop"
   ]
  },
  {
   "cell_type": "code",
   "execution_count": 5,
   "id": "6f45577a-ad98-4c74-9935-c0ec60034d80",
   "metadata": {},
   "outputs": [
    {
     "name": "stdout",
     "output_type": "stream",
     "text": [
      "list of 1 to 100 natural numbers is given by :  [1, 2, 3, 4, 5, 6, 7, 8, 9, 10, 11, 12, 13, 14, 15, 16, 17, 18, 19, 20, 21, 22, 23, 24, 25, 26, 27, 28, 29, 30, 31, 32, 33, 34, 35, 36, 37, 38, 39, 40, 41, 42, 43, 44, 45, 46, 47, 48, 49, 50, 51, 52, 53, 54, 55, 56, 57, 58, 59, 60, 61, 62, 63, 64, 65, 66, 67, 68, 69, 70, 71, 72, 73, 74, 75, 76, 77, 78, 79, 80, 81, 82, 83, 84, 85, 86, 87, 88, 89, 90, 91, 92, 93, 94, 95, 96, 97, 98, 99, 100]\n",
      "list of cubes which is divisible by 4 or 5 is:  [8, 64, 125, 216, 512, 1000, 1728, 2744, 3375, 4096, 5832, 8000, 10648, 13824, 15625, 17576, 21952, 27000, 32768, 39304, 42875, 46656, 54872, 64000, 74088, 85184, 91125, 97336, 110592, 125000, 140608, 157464, 166375, 175616, 195112, 216000, 238328, 262144, 274625, 287496, 314432, 343000, 373248, 405224, 421875, 438976, 474552, 512000, 551368, 592704, 614125, 636056, 681472, 729000, 778688, 830584, 857375, 884736, 941192, 1000000]\n"
     ]
    }
   ],
   "source": [
    "a=[]\n",
    "c=[]\n",
    "b=1\n",
    "e=1\n",
    "i=1\n",
    "while b<=100:\n",
    "    a.append(b)\n",
    "    b=b+1\n",
    "while i<=100:\n",
    "    e=i*i*i\n",
    "    if e%4==0 or e%5==0:\n",
    "        c.append(e)\n",
    "    i=i+1\n",
    "print('list of 1 to 100 natural numbers is given by : ',list(a))\n",
    "print('list of cubes which is divisible by 4 or 5 is: ',list(c))"
   ]
  },
  {
   "cell_type": "code",
   "execution_count": 6,
   "id": "335a4d28-1569-4137-8a20-fa280aa19c72",
   "metadata": {},
   "outputs": [],
   "source": [
    "# ANS 5"
   ]
  },
  {
   "cell_type": "code",
   "execution_count": 7,
   "id": "17c8086c-09d1-4110-8615-f10c6d6f3c47",
   "metadata": {},
   "outputs": [
    {
     "name": "stdout",
     "output_type": "stream",
     "text": [
      "total vowels in the given string is: 12\n"
     ]
    }
   ],
   "source": [
    "string='I want to become a Data scientist'\n",
    "count=0\n",
    "for i in string.lower():\n",
    "    if i in ['a','e','i','o','u']:\n",
    "        count=count+1\n",
    "print('total vowels in the given string is:', count)"
   ]
  }
 ],
 "metadata": {
  "kernelspec": {
   "display_name": "Python 3 (ipykernel)",
   "language": "python",
   "name": "python3"
  },
  "language_info": {
   "codemirror_mode": {
    "name": "ipython",
    "version": 3
   },
   "file_extension": ".py",
   "mimetype": "text/x-python",
   "name": "python",
   "nbconvert_exporter": "python",
   "pygments_lexer": "ipython3",
   "version": "3.10.8"
  }
 },
 "nbformat": 4,
 "nbformat_minor": 5
}
