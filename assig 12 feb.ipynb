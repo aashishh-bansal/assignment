{
 "cells": [
  {
   "cell_type": "code",
   "execution_count": 1,
   "id": "500e7dbe-bffc-4208-8ffe-b4a4e08a5611",
   "metadata": {},
   "outputs": [],
   "source": [
    "# ANS 1"
   ]
  },
  {
   "cell_type": "markdown",
   "id": "0e2abeb8-77c4-4bbe-a74b-01c349b56116",
   "metadata": {},
   "source": [
    "Exception: Exception in python is basically the error in the python code when we execute the code, or we can sat that the error \n",
    "occurs during the execution of the code of python and it intreupts the flow of code execution."
   ]
  },
  {
   "cell_type": "markdown",
   "id": "99e61fdc-b939-4f3e-80c1-44c9b027ef36",
   "metadata": {},
   "source": [
    "Syntax error : Syntax error is basically the error found in naming styles of writing code, or in keywords which python can noyt understand or error in programming structures.\n",
    "\n",
    "Exception: Exception is basicaaly any error which encounterd during the execution of code. Exception is basically the super class of errors present in the python."
   ]
  },
  {
   "cell_type": "code",
   "execution_count": 3,
   "id": "56d396b5-8ea4-41b2-bf7b-3a8e536a14bf",
   "metadata": {},
   "outputs": [],
   "source": [
    "# ANS 2"
   ]
  },
  {
   "cell_type": "markdown",
   "id": "36bdc731-fc2b-4a3c-b4a5-5dbfa3b97a8f",
   "metadata": {},
   "source": [
    "When exception is nopt handled in the pyhon then, the compiler does not execute the code after the instant any error found, because\n",
    "python compile code line by  line due to which if there is any error in between the code then the code of after the error will not execute if this\n",
    "error does not handled.  For example:"
   ]
  },
  {
   "cell_type": "code",
   "execution_count": 45,
   "id": "455c44b7-9113-4d7e-9269-59aa017006bd",
   "metadata": {},
   "outputs": [
    {
     "name": "stdout",
     "output_type": "stream",
     "text": [
      "13\n"
     ]
    },
    {
     "ename": "ZeroDivisionError",
     "evalue": "division by zero",
     "output_type": "error",
     "traceback": [
      "\u001b[0;31m---------------------------------------------------------------------------\u001b[0m",
      "\u001b[0;31mZeroDivisionError\u001b[0m                         Traceback (most recent call last)",
      "Cell \u001b[0;32mIn[45], line 6\u001b[0m\n\u001b[1;32m      4\u001b[0m d \u001b[38;5;241m=\u001b[39m a \u001b[38;5;241m+\u001b[39m b  \n\u001b[1;32m      5\u001b[0m \u001b[38;5;28mprint\u001b[39m(d)  \u001b[38;5;66;03m# upto this line there is no error so code is compiled upto this line\u001b[39;00m\n\u001b[0;32m----> 6\u001b[0m e\u001b[38;5;241m=\u001b[39m\u001b[43ma\u001b[49m\u001b[38;5;241;43m/\u001b[39;49m\u001b[38;5;241;43m0\u001b[39;49m     \u001b[38;5;66;03m# but in this line there is an error, called zero division error, so if this error is not handled, it encounted\u001b[39;00m\n\u001b[1;32m      7\u001b[0m            \u001b[38;5;66;03m# error and code doen not execute from this line..\u001b[39;00m\n",
      "\u001b[0;31mZeroDivisionError\u001b[0m: division by zero"
     ]
    }
   ],
   "source": [
    "a=5\n",
    "b=8\n",
    "c=7\n",
    "d = a + b  \n",
    "print(d)  # upto this line there is no error so code is compiled upto this line\n",
    "e=a/0     # but in this line there is an error, called zero division error, so if this error is not handled, it encounted\n",
    "           # error and code doen not execute from this line.."
   ]
  },
  {
   "cell_type": "code",
   "execution_count": 7,
   "id": "09ca651c-58dd-41ae-b1c3-140ffb72d95b",
   "metadata": {},
   "outputs": [],
   "source": [
    "# ANS 3"
   ]
  },
  {
   "cell_type": "markdown",
   "id": "26390037-a06c-4719-8c93-cb54167ac53e",
   "metadata": {},
   "source": [
    "try , and except statements are used to catch and handle the exceptions in python.\n",
    "For example:"
   ]
  },
  {
   "cell_type": "code",
   "execution_count": 46,
   "id": "c8253eae-1a09-4c73-a9e9-f40ba3fc3d69",
   "metadata": {},
   "outputs": [
    {
     "name": "stdout",
     "output_type": "stream",
     "text": [
      "13\n",
      "there is an error division by zero\n"
     ]
    }
   ],
   "source": [
    "a=5\n",
    "b=8\n",
    "c=7\n",
    "d = a + b  \n",
    "print(d)\n",
    "try:       # there is an error handled by try and except statements.\n",
    "    e=a/0\n",
    "except Exception as f:\n",
    "    print('there is an error',f)"
   ]
  },
  {
   "cell_type": "code",
   "execution_count": 12,
   "id": "c69d30d2-0696-4360-91d6-d3b7af5cbd3d",
   "metadata": {},
   "outputs": [],
   "source": [
    "# ANS 4"
   ]
  },
  {
   "cell_type": "markdown",
   "id": "d579a951-0380-4263-836f-1000845d2276",
   "metadata": {},
   "source": [
    "a.) try and else"
   ]
  },
  {
   "cell_type": "markdown",
   "id": "f91b8ecf-9781-448c-8616-41718daf57a8",
   "metadata": {},
   "source": [
    "try is basically used to catch the error while else is the statement executes only in the case when the try block executed without \n",
    "an error, i.e if there is something written in try block and if during execution try block does not found any error in the written\n",
    "code so now else block will execute surpassing the except block. For example:"
   ]
  },
  {
   "cell_type": "code",
   "execution_count": 15,
   "id": "08f7f499-790d-4410-b4ae-fb7ef8382a3a",
   "metadata": {},
   "outputs": [
    {
     "name": "stdout",
     "output_type": "stream",
     "text": [
      "13\n",
      "there is no error in try block\n"
     ]
    }
   ],
   "source": [
    "a=5\n",
    "b=8\n",
    "c=7\n",
    "d = a + b  \n",
    "print(d)\n",
    "try:       \n",
    "    e=a/4\n",
    "except Exception as f:\n",
    "    print('there is an error',f)\n",
    "else:\n",
    "    print('there is no error in try block')  # here else block executed as there is no error in try statement"
   ]
  },
  {
   "cell_type": "markdown",
   "id": "7a41d6d9-834a-4aba-99c0-c54227db3ac9",
   "metadata": {},
   "source": [
    "b.) finally"
   ]
  },
  {
   "cell_type": "markdown",
   "id": "90316509-83c7-4591-b610-a92193ddb98d",
   "metadata": {},
   "source": [
    "Finally is the block in exception handling, it is the block which will execute definitely irrespective to try block means if try block has encounters an error or not the finally block will have to execute. For example:"
   ]
  },
  {
   "cell_type": "code",
   "execution_count": 19,
   "id": "d4a2cb7b-ed7c-4a18-87c6-01a09d61fdaa",
   "metadata": {},
   "outputs": [
    {
     "name": "stdout",
     "output_type": "stream",
     "text": [
      "no file is there [Errno 2] No such file or directory: 'ashish.txt'\n",
      "i will execute in each condition\n"
     ]
    }
   ],
   "source": [
    "try:\n",
    "    with open('ashish.txt','r') as e:\n",
    "        e.write('vcehdg')\n",
    "except Exception as r:\n",
    "    print('no file is there',r)\n",
    "finally:\n",
    "    print('i will execute in each condition') # case in which try block encounters the error"
   ]
  },
  {
   "cell_type": "code",
   "execution_count": 22,
   "id": "6c4a3bdb-f63a-477e-8c91-2a20bb1e976d",
   "metadata": {},
   "outputs": [
    {
     "name": "stdout",
     "output_type": "stream",
     "text": [
      "10\n",
      "i will in this case as well\n"
     ]
    }
   ],
   "source": [
    "try:\n",
    "    a= 4 + 6\n",
    "    print(a)\n",
    "except Exception as r:\n",
    "    print('error')\n",
    "finally :\n",
    "    print('i will in this case as well') # case in which try block does not encounter any error"
   ]
  },
  {
   "cell_type": "markdown",
   "id": "81f8aa23-2c2b-49bb-9ce4-af796487a229",
   "metadata": {},
   "source": [
    "c.) raise"
   ]
  },
  {
   "cell_type": "markdown",
   "id": "16cde8b4-d3ce-475f-a051-09f09dddc6ff",
   "metadata": {},
   "source": [
    "raise is basically used to raise an exception in custom exception handling i.e. when user want to define its defition of error so it helps in raising the  exception and helps in handling. For Example:"
   ]
  },
  {
   "cell_type": "code",
   "execution_count": 47,
   "id": "6377c3e8-2696-4ac3-ad75-a76917f476d7",
   "metadata": {},
   "outputs": [],
   "source": [
    "class height1(Exception):\n",
    "    \n",
    "    def __init__(self,msg):\n",
    "        self.msg = msg"
   ]
  },
  {
   "cell_type": "code",
   "execution_count": 48,
   "id": "9bf17d23-e8e5-4172-a453-28806ffa77d6",
   "metadata": {},
   "outputs": [],
   "source": [
    "def htt(height):\n",
    "    if height < 0:\n",
    "        print('entered heinght is negative')\n",
    "    elif height > 80:\n",
    "        print('entered height is too big')\n",
    "    else:\n",
    "        print('height is valid')"
   ]
  },
  {
   "cell_type": "code",
   "execution_count": 49,
   "id": "186a119b-10f3-4baa-9c2f-d08fb1222cbb",
   "metadata": {},
   "outputs": [
    {
     "name": "stdin",
     "output_type": "stream",
     "text": [
      "enter ur height -98\n"
     ]
    },
    {
     "name": "stdout",
     "output_type": "stream",
     "text": [
      "entered heinght is negative\n"
     ]
    }
   ],
   "source": [
    "try:\n",
    "    a=int(input('enter ur height'))\n",
    "    htt(a)\n",
    "except height1 as w:\n",
    "    print(w)"
   ]
  },
  {
   "cell_type": "code",
   "execution_count": 27,
   "id": "a350e25f-a164-4f86-9da7-66a5409a24a8",
   "metadata": {},
   "outputs": [],
   "source": [
    "# ANS 5"
   ]
  },
  {
   "cell_type": "markdown",
   "id": "81fc1b51-41c9-4982-bd71-6aa4dd154c3b",
   "metadata": {},
   "source": [
    "Custom Exceptions : Custom Exceptions are the user defined errors which are encounterd during running the code. These are the errors which are particularly defined by the user."
   ]
  },
  {
   "cell_type": "markdown",
   "id": "666cb989-f2d1-4fcc-a071-d92b336767bb",
   "metadata": {},
   "source": [
    "We need custom exceptions because in many of the cases python excepts the value which are according to user an error so to rectify these errors python has a concept custom exceptions handling in which user are allowed to defined there own error rules and when found in code do handling for them. \n",
    "For example if age is asked by user and if user entered negative value, pyhton except it as correct but it is not, as below"
   ]
  },
  {
   "cell_type": "code",
   "execution_count": 36,
   "id": "1df7df31-ba3a-4080-9d43-da50663339c8",
   "metadata": {},
   "outputs": [
    {
     "name": "stdin",
     "output_type": "stream",
     "text": [
      "enter ur age -768\n"
     ]
    },
    {
     "name": "stdout",
     "output_type": "stream",
     "text": [
      "-768\n"
     ]
    }
   ],
   "source": [
    "try:\n",
    "    a=int(input('enter ur age'))\n",
    "    print(a)\n",
    "except Exception as r:\n",
    "    print('error',r)"
   ]
  },
  {
   "cell_type": "markdown",
   "id": "047598db-cc69-4f8b-bc46-8f27fdd268a7",
   "metadata": {},
   "source": [
    "here age is asked, which is enterd by user is negative but it accept is as correct, so here we need custom exception handling."
   ]
  },
  {
   "cell_type": "code",
   "execution_count": 37,
   "id": "f11ffa10-7bb4-4bda-95b6-8b4b20bedf2e",
   "metadata": {},
   "outputs": [],
   "source": [
    "# ANS 6"
   ]
  },
  {
   "cell_type": "code",
   "execution_count": 38,
   "id": "32cbcea3-8eca-4a37-b852-73a080bceba4",
   "metadata": {},
   "outputs": [],
   "source": [
    "class height1(Exception):\n",
    "    \n",
    "    def __init__(self,msg):\n",
    "        self.msg = msg"
   ]
  },
  {
   "cell_type": "code",
   "execution_count": 42,
   "id": "a9bdb815-6e60-4a58-aea9-9744f364e32a",
   "metadata": {},
   "outputs": [],
   "source": [
    "def htt(height):\n",
    "    if height < 0:\n",
    "        print('entered heinght is negative')\n",
    "    elif height > 120:\n",
    "        print('entered height is too big')\n",
    "    elif height <20:\n",
    "        print('entered height is too small')\n",
    "    else:\n",
    "        print('height is valid')"
   ]
  },
  {
   "cell_type": "code",
   "execution_count": 44,
   "id": "df4c5ada-cb1b-4183-a30c-2367e79478e0",
   "metadata": {},
   "outputs": [
    {
     "name": "stdin",
     "output_type": "stream",
     "text": [
      "enter ur height in inches 19\n"
     ]
    },
    {
     "name": "stdout",
     "output_type": "stream",
     "text": [
      "entered height is too small\n"
     ]
    }
   ],
   "source": [
    "try:\n",
    "    a=int(input('enter ur height in inches'))\n",
    "    htt(a)\n",
    "except height1 as w:\n",
    "    print(w)"
   ]
  }
 ],
 "metadata": {
  "kernelspec": {
   "display_name": "Python 3 (ipykernel)",
   "language": "python",
   "name": "python3"
  },
  "language_info": {
   "codemirror_mode": {
    "name": "ipython",
    "version": 3
   },
   "file_extension": ".py",
   "mimetype": "text/x-python",
   "name": "python",
   "nbconvert_exporter": "python",
   "pygments_lexer": "ipython3",
   "version": "3.10.8"
  }
 },
 "nbformat": 4,
 "nbformat_minor": 5
}
